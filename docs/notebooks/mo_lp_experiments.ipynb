{
 "cells": [
  {
   "cell_type": "code",
   "execution_count": 1,
   "metadata": {},
   "outputs": [],
   "source": [
    "%load_ext autoreload\n",
    "%autoreload 2\n",
    "%matplotlib inline"
   ]
  },
  {
   "cell_type": "code",
   "execution_count": 2,
   "metadata": {},
   "outputs": [
    {
     "name": "stderr",
     "output_type": "stream",
     "text": [
      "2022-01-21 15:05:29.552105: W tensorflow/stream_executor/platform/default/dso_loader.cc:64] Could not load dynamic library 'libcudart.so.11.0'; dlerror: libcudart.so.11.0: cannot open shared object file: No such file or directory\n",
      "2022-01-21 15:05:29.552148: I tensorflow/stream_executor/cuda/cudart_stub.cc:29] Ignore above cudart dlerror if you do not have a GPU set up on your machine.\n",
      "2022-01-21 15:05:30.858345: W tensorflow/stream_executor/platform/default/dso_loader.cc:64] Could not load dynamic library 'libcuda.so.1'; dlerror: libcuda.so.1: cannot open shared object file: No such file or directory\n",
      "2022-01-21 15:05:30.858396: W tensorflow/stream_executor/cuda/cuda_driver.cc:326] failed call to cuInit: UNKNOWN ERROR (303)\n",
      "2022-01-21 15:05:30.858413: I tensorflow/stream_executor/cuda/cuda_diagnostics.cc:156] kernel driver does not appear to be running on this host (DESKTOP-MGDBU2G): /proc/driver/nvidia/version does not exist\n",
      "2022-01-21 15:05:30.858635: I tensorflow/core/platform/cpu_feature_guard.cc:142] This TensorFlow binary is optimized with oneAPI Deep Neural Network Library (oneDNN) to use the following CPU instructions in performance-critical operations:  AVX2 FMA\n",
      "To enable them in other operations, rebuild TensorFlow with the appropriate compiler flags.\n"
     ]
    }
   ],
   "source": [
    "import os\n",
    "import math\n",
    "# import trieste\n",
    "import tensorflow as tf\n",
    "import numpy as np\n",
    "import matplotlib.pyplot as plt\n",
    "\n",
    "\n",
    "from mo_lp.experiment import single_run, Config\n",
    "from mo_lp import test_functions"
   ]
  },
  {
   "cell_type": "markdown",
   "metadata": {},
   "source": [
    "## Simple 1d input case"
   ]
  },
  {
   "cell_type": "code",
   "execution_count": 6,
   "metadata": {},
   "outputs": [
    {
     "name": "stdout",
     "output_type": "stream",
     "text": [
      "Running BatchMC with batch size 4 for 3 iterations\n"
     ]
    },
    {
     "name": "stderr",
     "output_type": "stream",
     "text": [
      "2022-01-21 15:11:35.056140: W tensorflow/core/framework/cpu_allocator_impl.cc:80] Allocation of 240000000 exceeds 10% of free system memory.\n",
      "2022-01-21 15:11:35.111766: W tensorflow/core/framework/cpu_allocator_impl.cc:80] Allocation of 240000000 exceeds 10% of free system memory.\n",
      "2022-01-21 15:11:35.172321: W tensorflow/core/framework/cpu_allocator_impl.cc:80] Allocation of 240000000 exceeds 10% of free system memory.\n",
      "2022-01-21 15:11:35.277168: W tensorflow/core/framework/cpu_allocator_impl.cc:80] Allocation of 240000000 exceeds 10% of free system memory.\n",
      "2022-01-21 15:11:35.367025: W tensorflow/core/framework/cpu_allocator_impl.cc:80] Allocation of 360000000 exceeds 10% of free system memory.\n"
     ]
    },
    {
     "name": "stdout",
     "output_type": "stream",
     "text": [
      "Optimization completed without errors\n",
      "Finished in 43.552809953689575s\n",
      "Running BatchMC with batch size 4 for 3 iterations\n",
      "Optimization completed without errors\n",
      "Finished in 21.645567655563354s\n",
      "Running BatchMC with batch size 4 for 3 iterations\n",
      "Optimization completed without errors\n",
      "Finished in 28.05651021003723s\n",
      "Running BatchMC with batch size 4 for 3 iterations\n",
      "Optimization completed without errors\n",
      "Finished in 21.989274263381958s\n",
      "Running BatchMC with batch size 4 for 3 iterations\n",
      "Optimization completed without errors\n",
      "Finished in 39.7259464263916s\n",
      "Running DistanceBased with batch size 4 for 3 iterations\n",
      "WARNING:tensorflow:From /home/ubuntu/projects/trieste/trieste/.venv37/lib/python3.7/site-packages/tensorflow/python/ops/array_ops.py:5049: calling gather (from tensorflow.python.ops.array_ops) with validate_indices is deprecated and will be removed in a future version.\n",
      "Instructions for updating:\n",
      "The `validate_indices` argument has no effect. Indices are always validated on CPU and never validated on GPU.\n",
      "Optimization completed without errors\n",
      "Finished in 17.88986086845398s\n",
      "Running DistanceBased with batch size 4 for 3 iterations\n",
      "Optimization completed without errors\n",
      "Finished in 4.190422773361206s\n"
     ]
    },
    {
     "ename": "InvalidArgumentError",
     "evalue": "Condition x >= y did not hold.\nFirst 2 elements of x:\n[0.9920402  0.21155706]\nFirst 3 elements of y:\n[-2.          0.49999642 -1.99245275]",
     "output_type": "error",
     "traceback": [
      "\u001b[0;31m---------------------------------------------------------------------------\u001b[0m",
      "\u001b[0;31mInvalidArgumentError\u001b[0m                      Traceback (most recent call last)",
      "\u001b[0;32m/tmp/ipykernel_4026/3374505974.py\u001b[0m in \u001b[0;36m<module>\u001b[0;34m\u001b[0m\n\u001b[1;32m     13\u001b[0m \u001b[0mconfig_dict\u001b[0m\u001b[0;34m[\u001b[0m\u001b[0;34m\"acquisition_method_name\"\u001b[0m\u001b[0;34m]\u001b[0m \u001b[0;34m=\u001b[0m \u001b[0;34m\"DistanceBased\"\u001b[0m\u001b[0;34m\u001b[0m\u001b[0;34m\u001b[0m\u001b[0m\n\u001b[1;32m     14\u001b[0m \u001b[0mconfig\u001b[0m \u001b[0;34m=\u001b[0m \u001b[0mConfig\u001b[0m\u001b[0;34m.\u001b[0m\u001b[0mfrom_dict\u001b[0m\u001b[0;34m(\u001b[0m\u001b[0mconfig_dict\u001b[0m\u001b[0;34m)\u001b[0m\u001b[0;34m\u001b[0m\u001b[0;34m\u001b[0m\u001b[0m\n\u001b[0;32m---> 15\u001b[0;31m \u001b[0mmo_lp_hv_regret\u001b[0m \u001b[0;34m=\u001b[0m \u001b[0msingle_run\u001b[0m\u001b[0;34m(\u001b[0m\u001b[0mconfig\u001b[0m\u001b[0;34m)\u001b[0m\u001b[0;34m\u001b[0m\u001b[0;34m\u001b[0m\u001b[0m\n\u001b[0m",
      "\u001b[0;32m~/projects/trieste/trieste/docs/notebooks/mo_lp/experiment.py\u001b[0m in \u001b[0;36msingle_run\u001b[0;34m(config)\u001b[0m\n\u001b[1;32m    109\u001b[0m \u001b[0;34m\u001b[0m\u001b[0m\n\u001b[1;32m    110\u001b[0m         \u001b[0mdataset\u001b[0m \u001b[0;34m=\u001b[0m \u001b[0mresult\u001b[0m\u001b[0;34m.\u001b[0m\u001b[0mtry_get_final_datasets\u001b[0m\u001b[0;34m(\u001b[0m\u001b[0;34m)\u001b[0m\u001b[0;34m[\u001b[0m\u001b[0mOBJECTIVE\u001b[0m\u001b[0;34m]\u001b[0m\u001b[0;34m\u001b[0m\u001b[0;34m\u001b[0m\u001b[0m\n\u001b[0;32m--> 111\u001b[0;31m         \u001b[0mhv_regret\u001b[0m\u001b[0;34m.\u001b[0m\u001b[0mappend\u001b[0m\u001b[0;34m(\u001b[0m\u001b[0mget_hv_regret\u001b[0m\u001b[0;34m(\u001b[0m\u001b[0mtrue_pf\u001b[0m\u001b[0;34m,\u001b[0m \u001b[0mdataset\u001b[0m\u001b[0;34m.\u001b[0m\u001b[0mobservations\u001b[0m\u001b[0;34m,\u001b[0m \u001b[0mconfig\u001b[0m\u001b[0;34m.\u001b[0m\u001b[0mn_initial_points\u001b[0m\u001b[0;34m)\u001b[0m\u001b[0;34m)\u001b[0m\u001b[0;34m\u001b[0m\u001b[0;34m\u001b[0m\u001b[0m\n\u001b[0m\u001b[1;32m    112\u001b[0m \u001b[0;34m\u001b[0m\u001b[0m\n\u001b[1;32m    113\u001b[0m     \u001b[0;32mreturn\u001b[0m \u001b[0mhv_regret\u001b[0m\u001b[0;34m\u001b[0m\u001b[0;34m\u001b[0m\u001b[0m\n",
      "\u001b[0;32m~/projects/trieste/trieste/docs/notebooks/mo_lp/experiment.py\u001b[0m in \u001b[0;36mget_hv_regret\u001b[0;34m(true_points, observed_points, num_initial_points)\u001b[0m\n\u001b[1;32m     74\u001b[0m \u001b[0;32mdef\u001b[0m \u001b[0mget_hv_regret\u001b[0m\u001b[0;34m(\u001b[0m\u001b[0mtrue_points\u001b[0m\u001b[0;34m,\u001b[0m \u001b[0mobserved_points\u001b[0m\u001b[0;34m,\u001b[0m \u001b[0mnum_initial_points\u001b[0m\u001b[0;34m)\u001b[0m\u001b[0;34m:\u001b[0m\u001b[0;34m\u001b[0m\u001b[0;34m\u001b[0m\u001b[0m\n\u001b[1;32m     75\u001b[0m     \u001b[0mref_point\u001b[0m \u001b[0;34m=\u001b[0m \u001b[0mget_reference_point\u001b[0m\u001b[0;34m(\u001b[0m\u001b[0mobserved_points\u001b[0m\u001b[0;34m)\u001b[0m\u001b[0;34m\u001b[0m\u001b[0;34m\u001b[0m\u001b[0m\n\u001b[0;32m---> 76\u001b[0;31m     \u001b[0mideal_hv\u001b[0m \u001b[0;34m=\u001b[0m \u001b[0mPareto\u001b[0m\u001b[0;34m(\u001b[0m\u001b[0mtrue_points\u001b[0m\u001b[0;34m)\u001b[0m\u001b[0;34m.\u001b[0m\u001b[0mhypervolume_indicator\u001b[0m\u001b[0;34m(\u001b[0m\u001b[0mref_point\u001b[0m\u001b[0;34m)\u001b[0m\u001b[0;34m\u001b[0m\u001b[0;34m\u001b[0m\u001b[0m\n\u001b[0m\u001b[1;32m     77\u001b[0m \u001b[0;34m\u001b[0m\u001b[0m\n\u001b[1;32m     78\u001b[0m     \u001b[0mhv_regret\u001b[0m \u001b[0;34m=\u001b[0m \u001b[0;34m[\u001b[0m\u001b[0;34m]\u001b[0m\u001b[0;34m\u001b[0m\u001b[0;34m\u001b[0m\u001b[0m\n",
      "\u001b[0;32m~/projects/trieste/trieste/trieste/acquisition/multi_objective/pareto.py\u001b[0m in \u001b[0;36mhypervolume_indicator\u001b[0;34m(self, reference)\u001b[0m\n\u001b[1;32m     66\u001b[0m         )\n\u001b[1;32m     67\u001b[0m         lower, upper = prepare_default_non_dominated_partition_bounds(\n\u001b[0;32m---> 68\u001b[0;31m             \u001b[0mreference\u001b[0m\u001b[0;34m,\u001b[0m \u001b[0mself\u001b[0m\u001b[0;34m.\u001b[0m\u001b[0mfront\u001b[0m\u001b[0;34m,\u001b[0m \u001b[0mhelper_anti_reference\u001b[0m\u001b[0;34m\u001b[0m\u001b[0;34m\u001b[0m\u001b[0m\n\u001b[0m\u001b[1;32m     69\u001b[0m         )\n\u001b[1;32m     70\u001b[0m         \u001b[0mnon_dominated_hypervolume\u001b[0m \u001b[0;34m=\u001b[0m \u001b[0mtf\u001b[0m\u001b[0;34m.\u001b[0m\u001b[0mreduce_sum\u001b[0m\u001b[0;34m(\u001b[0m\u001b[0mtf\u001b[0m\u001b[0;34m.\u001b[0m\u001b[0mreduce_prod\u001b[0m\u001b[0;34m(\u001b[0m\u001b[0mupper\u001b[0m \u001b[0;34m-\u001b[0m \u001b[0mlower\u001b[0m\u001b[0;34m,\u001b[0m \u001b[0;36m1\u001b[0m\u001b[0;34m)\u001b[0m\u001b[0;34m)\u001b[0m\u001b[0;34m\u001b[0m\u001b[0;34m\u001b[0m\u001b[0m\n",
      "\u001b[0;32m~/projects/trieste/trieste/trieste/acquisition/multi_objective/partition.py\u001b[0m in \u001b[0;36mprepare_default_non_dominated_partition_bounds\u001b[0;34m(reference, observations, anti_reference)\u001b[0m\n\u001b[1;32m     98\u001b[0m     \u001b[0;32melse\u001b[0m\u001b[0;34m:\u001b[0m\u001b[0;34m\u001b[0m\u001b[0;34m\u001b[0m\u001b[0m\n\u001b[1;32m     99\u001b[0m         return ExactPartition2dNonDominated(observations).partition_bounds(\n\u001b[0;32m--> 100\u001b[0;31m             \u001b[0manti_reference\u001b[0m\u001b[0;34m,\u001b[0m \u001b[0mreference\u001b[0m\u001b[0;34m\u001b[0m\u001b[0;34m\u001b[0m\u001b[0m\n\u001b[0m\u001b[1;32m    101\u001b[0m         )\n\u001b[1;32m    102\u001b[0m \u001b[0;34m\u001b[0m\u001b[0m\n",
      "\u001b[0;32m~/projects/trieste/trieste/trieste/acquisition/multi_objective/partition.py\u001b[0m in \u001b[0;36mpartition_bounds\u001b[0;34m(self, anti_reference, reference)\u001b[0m\n\u001b[1;32m    147\u001b[0m             \u001b[0mshape\u001b[0m\u001b[0;34m.\u001b[0m\u001b[0;34m\u001b[0m\u001b[0;34m\u001b[0m\u001b[0m\n\u001b[1;32m    148\u001b[0m         \"\"\"\n\u001b[0;32m--> 149\u001b[0;31m         \u001b[0mtf\u001b[0m\u001b[0;34m.\u001b[0m\u001b[0mdebugging\u001b[0m\u001b[0;34m.\u001b[0m\u001b[0massert_greater_equal\u001b[0m\u001b[0;34m(\u001b[0m\u001b[0mreference\u001b[0m\u001b[0;34m,\u001b[0m \u001b[0mself\u001b[0m\u001b[0;34m.\u001b[0m\u001b[0mfront\u001b[0m\u001b[0;34m)\u001b[0m\u001b[0;34m\u001b[0m\u001b[0;34m\u001b[0m\u001b[0m\n\u001b[0m\u001b[1;32m    150\u001b[0m         \u001b[0mtf\u001b[0m\u001b[0;34m.\u001b[0m\u001b[0mdebugging\u001b[0m\u001b[0;34m.\u001b[0m\u001b[0massert_greater_equal\u001b[0m\u001b[0;34m(\u001b[0m\u001b[0mself\u001b[0m\u001b[0;34m.\u001b[0m\u001b[0mfront\u001b[0m\u001b[0;34m,\u001b[0m \u001b[0manti_reference\u001b[0m\u001b[0;34m)\u001b[0m\u001b[0;34m\u001b[0m\u001b[0;34m\u001b[0m\u001b[0m\n\u001b[1;32m    151\u001b[0m         \u001b[0mtf\u001b[0m\u001b[0;34m.\u001b[0m\u001b[0mdebugging\u001b[0m\u001b[0;34m.\u001b[0m\u001b[0massert_type\u001b[0m\u001b[0;34m(\u001b[0m\u001b[0manti_reference\u001b[0m\u001b[0;34m,\u001b[0m \u001b[0mself\u001b[0m\u001b[0;34m.\u001b[0m\u001b[0mfront\u001b[0m\u001b[0;34m.\u001b[0m\u001b[0mdtype\u001b[0m\u001b[0;34m)\u001b[0m\u001b[0;34m\u001b[0m\u001b[0;34m\u001b[0m\u001b[0m\n",
      "\u001b[0;32m~/projects/trieste/trieste/.venv37/lib/python3.7/site-packages/tensorflow/python/util/dispatch.py\u001b[0m in \u001b[0;36mwrapper\u001b[0;34m(*args, **kwargs)\u001b[0m\n\u001b[1;32m    204\u001b[0m     \u001b[0;34m\"\"\"Call target, and fall back on dispatchers if there is a TypeError.\"\"\"\u001b[0m\u001b[0;34m\u001b[0m\u001b[0;34m\u001b[0m\u001b[0m\n\u001b[1;32m    205\u001b[0m     \u001b[0;32mtry\u001b[0m\u001b[0;34m:\u001b[0m\u001b[0;34m\u001b[0m\u001b[0;34m\u001b[0m\u001b[0m\n\u001b[0;32m--> 206\u001b[0;31m       \u001b[0;32mreturn\u001b[0m \u001b[0mtarget\u001b[0m\u001b[0;34m(\u001b[0m\u001b[0;34m*\u001b[0m\u001b[0margs\u001b[0m\u001b[0;34m,\u001b[0m \u001b[0;34m**\u001b[0m\u001b[0mkwargs\u001b[0m\u001b[0;34m)\u001b[0m\u001b[0;34m\u001b[0m\u001b[0;34m\u001b[0m\u001b[0m\n\u001b[0m\u001b[1;32m    207\u001b[0m     \u001b[0;32mexcept\u001b[0m \u001b[0;34m(\u001b[0m\u001b[0mTypeError\u001b[0m\u001b[0;34m,\u001b[0m \u001b[0mValueError\u001b[0m\u001b[0;34m)\u001b[0m\u001b[0;34m:\u001b[0m\u001b[0;34m\u001b[0m\u001b[0;34m\u001b[0m\u001b[0m\n\u001b[1;32m    208\u001b[0m       \u001b[0;31m# Note: convert_to_eager_tensor currently raises a ValueError, not a\u001b[0m\u001b[0;34m\u001b[0m\u001b[0;34m\u001b[0m\u001b[0;34m\u001b[0m\u001b[0m\n",
      "\u001b[0;32m~/projects/trieste/trieste/.venv37/lib/python3.7/site-packages/tensorflow/python/ops/check_ops.py\u001b[0m in \u001b[0;36massert_greater_equal_v2\u001b[0;34m(x, y, message, summarize, name)\u001b[0m\n\u001b[1;32m   1028\u001b[0m   \"\"\"\n\u001b[1;32m   1029\u001b[0m   return assert_greater_equal(x=x, y=y, summarize=summarize, message=message,\n\u001b[0;32m-> 1030\u001b[0;31m                               name=name)\n\u001b[0m\u001b[1;32m   1031\u001b[0m \u001b[0;34m\u001b[0m\u001b[0m\n\u001b[1;32m   1032\u001b[0m \u001b[0;34m\u001b[0m\u001b[0m\n",
      "\u001b[0;32m~/projects/trieste/trieste/.venv37/lib/python3.7/site-packages/tensorflow/python/util/dispatch.py\u001b[0m in \u001b[0;36mwrapper\u001b[0;34m(*args, **kwargs)\u001b[0m\n\u001b[1;32m    204\u001b[0m     \u001b[0;34m\"\"\"Call target, and fall back on dispatchers if there is a TypeError.\"\"\"\u001b[0m\u001b[0;34m\u001b[0m\u001b[0;34m\u001b[0m\u001b[0m\n\u001b[1;32m    205\u001b[0m     \u001b[0;32mtry\u001b[0m\u001b[0;34m:\u001b[0m\u001b[0;34m\u001b[0m\u001b[0;34m\u001b[0m\u001b[0m\n\u001b[0;32m--> 206\u001b[0;31m       \u001b[0;32mreturn\u001b[0m \u001b[0mtarget\u001b[0m\u001b[0;34m(\u001b[0m\u001b[0;34m*\u001b[0m\u001b[0margs\u001b[0m\u001b[0;34m,\u001b[0m \u001b[0;34m**\u001b[0m\u001b[0mkwargs\u001b[0m\u001b[0;34m)\u001b[0m\u001b[0;34m\u001b[0m\u001b[0;34m\u001b[0m\u001b[0m\n\u001b[0m\u001b[1;32m    207\u001b[0m     \u001b[0;32mexcept\u001b[0m \u001b[0;34m(\u001b[0m\u001b[0mTypeError\u001b[0m\u001b[0;34m,\u001b[0m \u001b[0mValueError\u001b[0m\u001b[0;34m)\u001b[0m\u001b[0;34m:\u001b[0m\u001b[0;34m\u001b[0m\u001b[0;34m\u001b[0m\u001b[0m\n\u001b[1;32m    208\u001b[0m       \u001b[0;31m# Note: convert_to_eager_tensor currently raises a ValueError, not a\u001b[0m\u001b[0;34m\u001b[0m\u001b[0;34m\u001b[0m\u001b[0;34m\u001b[0m\u001b[0m\n",
      "\u001b[0;32m~/projects/trieste/trieste/.venv37/lib/python3.7/site-packages/tensorflow/python/ops/check_ops.py\u001b[0m in \u001b[0;36massert_greater_equal\u001b[0;34m(x, y, data, summarize, message, name)\u001b[0m\n\u001b[1;32m   1038\u001b[0m                          name=None):\n\u001b[1;32m   1039\u001b[0m   return _binary_assert('>=', 'assert_greater_equal', math_ops.greater_equal,\n\u001b[0;32m-> 1040\u001b[0;31m                         np.greater_equal, x, y, data, summarize, message, name)\n\u001b[0m\u001b[1;32m   1041\u001b[0m \u001b[0;34m\u001b[0m\u001b[0m\n\u001b[1;32m   1042\u001b[0m \u001b[0;34m\u001b[0m\u001b[0m\n",
      "\u001b[0;32m~/projects/trieste/trieste/.venv37/lib/python3.7/site-packages/tensorflow/python/ops/check_ops.py\u001b[0m in \u001b[0;36m_binary_assert\u001b[0;34m(sym, opname, op_func, static_func, x, y, data, summarize, message, name)\u001b[0m\n\u001b[1;32m    354\u001b[0m           \u001b[0mnode_def\u001b[0m\u001b[0;34m=\u001b[0m\u001b[0;32mNone\u001b[0m\u001b[0;34m,\u001b[0m\u001b[0;34m\u001b[0m\u001b[0;34m\u001b[0m\u001b[0m\n\u001b[1;32m    355\u001b[0m           \u001b[0mop\u001b[0m\u001b[0;34m=\u001b[0m\u001b[0;32mNone\u001b[0m\u001b[0;34m,\u001b[0m\u001b[0;34m\u001b[0m\u001b[0;34m\u001b[0m\u001b[0m\n\u001b[0;32m--> 356\u001b[0;31m           message=('\\n'.join(_pretty_print(d, summarize) for d in data)))\n\u001b[0m\u001b[1;32m    357\u001b[0m \u001b[0;34m\u001b[0m\u001b[0m\n\u001b[1;32m    358\u001b[0m     \u001b[0;32melse\u001b[0m\u001b[0;34m:\u001b[0m  \u001b[0;31m# not context.executing_eagerly()\u001b[0m\u001b[0;34m\u001b[0m\u001b[0;34m\u001b[0m\u001b[0m\n",
      "\u001b[0;31mInvalidArgumentError\u001b[0m: Condition x >= y did not hold.\nFirst 2 elements of x:\n[0.9920402  0.21155706]\nFirst 3 elements of y:\n[-2.          0.49999642 -1.99245275]"
     ]
    }
   ],
   "source": [
    "config_dict = {\n",
    "    \"test_function_name\": test_functions.Simple1D.name,\n",
    "    \"acquisition_method_name\": \"BatchMC\", # \"DistanceBased\"\n",
    "    \"n_initial_points\": 3,\n",
    "    \"n_query_points\": 4,\n",
    "    \"n_optimization_steps\": 3,\n",
    "    \"n_repeats\": 5\n",
    "}\n",
    "config = Config.from_dict(config_dict)\n",
    "batch_mc_hv_regret = single_run(config)\n",
    "\n",
    "\n",
    "config_dict[\"acquisition_method_name\"] = \"DistanceBased\"\n",
    "config = Config.from_dict(config_dict)\n",
    "mo_lp_hv_regret = single_run(config)"
   ]
  },
  {
   "cell_type": "code",
   "execution_count": 6,
   "metadata": {},
   "outputs": [
    {
     "name": "stdout",
     "output_type": "stream",
     "text": [
      "Running Batch MC with batch size 4 for 3 iterations\n"
     ]
    },
    {
     "name": "stderr",
     "output_type": "stream",
     "text": [
      "2022-01-14 14:37:13.985920: W tensorflow/python/util/util.cc:348] Sets are not currently considered sequences, but this may change in the future, so consider avoiding using them.\n",
      "2022-01-14 14:37:14.972824: I tensorflow/compiler/mlir/mlir_graph_optimization_pass.cc:176] None of the MLIR Optimization Passes are enabled (registered 2)\n",
      "2022-01-14 14:37:14.976371: I tensorflow/core/platform/profile_utils/cpu_utils.cc:114] CPU Frequency: 2208020000 Hz\n"
     ]
    },
    {
     "name": "stdout",
     "output_type": "stream",
     "text": [
      "Optimization completed without errors\n",
      "Batch MC finished in 22.454044580459595s\n",
      "Running MO LP with batch size 4 for 3 iterations\n",
      "WARNING:tensorflow:From /home/ubuntu/projects/trieste/trieste/.venv/lib/python3.8/site-packages/tensorflow/python/ops/array_ops.py:5043: calling gather (from tensorflow.python.ops.array_ops) with validate_indices is deprecated and will be removed in a future version.\n",
      "Instructions for updating:\n",
      "The `validate_indices` argument has no effect. Indices are always validated on CPU and never validated on GPU.\n",
      "Optimization completed without errors\n",
      "MO LP finished in 12.283611297607422s\n",
      "Running Batch MC with batch size 4 for 3 iterations\n",
      "Optimization completed without errors\n",
      "Batch MC finished in 19.27744150161743s\n",
      "Running MO LP with batch size 4 for 3 iterations\n",
      "Optimization completed without errors\n",
      "MO LP finished in 12.489064693450928s\n",
      "Running Batch MC with batch size 4 for 3 iterations\n"
     ]
    },
    {
     "name": "stderr",
     "output_type": "stream",
     "text": [
      "2022-01-14 14:38:32.902916: W tensorflow/core/framework/cpu_allocator_impl.cc:80] Allocation of 960000000 exceeds 10% of free system memory.\n",
      "2022-01-14 14:38:33.114447: W tensorflow/core/framework/cpu_allocator_impl.cc:80] Allocation of 960000000 exceeds 10% of free system memory.\n",
      "2022-01-14 14:38:33.297194: W tensorflow/core/framework/cpu_allocator_impl.cc:80] Allocation of 960000000 exceeds 10% of free system memory.\n"
     ]
    },
    {
     "name": "stdout",
     "output_type": "stream",
     "text": [
      "Optimization completed without errors\n",
      "Batch MC finished in 19.53864574432373s\n",
      "Running MO LP with batch size 4 for 3 iterations\n",
      "Optimization completed without errors\n",
      "MO LP finished in 11.883785724639893s\n",
      "Running Batch MC with batch size 4 for 3 iterations\n"
     ]
    },
    {
     "name": "stderr",
     "output_type": "stream",
     "text": [
      "2022-01-14 14:39:07.485788: W tensorflow/core/framework/cpu_allocator_impl.cc:80] Allocation of 960000000 exceeds 10% of free system memory.\n",
      "2022-01-14 14:39:07.706844: W tensorflow/core/framework/cpu_allocator_impl.cc:80] Allocation of 960000000 exceeds 10% of free system memory.\n"
     ]
    },
    {
     "name": "stdout",
     "output_type": "stream",
     "text": [
      "Optimization completed without errors\n",
      "Batch MC finished in 21.77543878555298s\n",
      "Running MO LP with batch size 4 for 3 iterations\n",
      "Optimization completed without errors\n",
      "MO LP finished in 12.051153659820557s\n",
      "Running Batch MC with batch size 4 for 3 iterations\n",
      "Optimization completed without errors\n",
      "Batch MC finished in 21.620429754257202s\n",
      "Running MO LP with batch size 4 for 3 iterations\n",
      "Optimization completed without errors\n",
      "MO LP finished in 12.0298433303833s\n",
      "Running Batch MC with batch size 4 for 3 iterations\n",
      "Optimization completed without errors\n",
      "Batch MC finished in 21.11249804496765s\n",
      "Running MO LP with batch size 4 for 3 iterations\n",
      "Optimization completed without errors\n",
      "MO LP finished in 11.613265752792358s\n",
      "Running Batch MC with batch size 4 for 3 iterations\n",
      "Optimization completed without errors\n",
      "Batch MC finished in 17.697705268859863s\n",
      "Running MO LP with batch size 4 for 3 iterations\n",
      "Optimization completed without errors\n",
      "MO LP finished in 11.710094213485718s\n",
      "Running Batch MC with batch size 4 for 3 iterations\n",
      "Optimization completed without errors\n",
      "Batch MC finished in 16.85477924346924s\n",
      "Running MO LP with batch size 4 for 3 iterations\n",
      "Optimization completed without errors\n",
      "MO LP finished in 13.262328624725342s\n",
      "Running Batch MC with batch size 4 for 3 iterations\n",
      "Optimization completed without errors\n",
      "Batch MC finished in 17.684173107147217s\n",
      "Running MO LP with batch size 4 for 3 iterations\n",
      "Optimization completed without errors\n",
      "MO LP finished in 12.195570707321167s\n",
      "Running Batch MC with batch size 4 for 3 iterations\n",
      "Optimization completed without errors\n",
      "Batch MC finished in 21.289490938186646s\n",
      "Running MO LP with batch size 4 for 3 iterations\n",
      "Optimization completed without errors\n",
      "MO LP finished in 11.817516803741455s\n"
     ]
    }
   ],
   "source": [
    "# true_pf = read_true_pf(test_function.true_pf_filename)\n",
    "\n",
    "# batch_mc_hv_regret = []\n",
    "# mo_lp_hv_regret = []\n",
    "# for _ in range(n_experiments):\n",
    "#     batch_mc_observations, mo_lp_observations = run_experiment(test_function,\n",
    "#                                                                 test_function.n_objectives,\n",
    "#                                                                 test_function.search_space,\n",
    "#                                                                 num_initial_points,\n",
    "#                                                                 num_steps,\n",
    "#                                                                 num_query_points)\n",
    "\n",
    "#     batch_mc_hv_regret.append(get_hv_regret(true_pf, batch_mc_observations, num_initial_points))\n",
    "#     mo_lp_hv_regret.append(get_hv_regret(true_pf, mo_lp_observations, num_initial_points))"
   ]
  },
  {
   "cell_type": "code",
   "execution_count": 7,
   "metadata": {},
   "outputs": [],
   "source": [
    "batch_mc_hv_regret = np.array(batch_mc_hv_regret)\n",
    "mo_lp_hv_regret = np.array(mo_lp_hv_regret)"
   ]
  },
  {
   "cell_type": "code",
   "execution_count": 8,
   "metadata": {},
   "outputs": [
    {
     "data": {
      "image/png": "[encoded data removed]",
      "text/plain": [
       "<Figure size 432x288 with 1 Axes>"
      ]
     },
     "metadata": {
      "needs_background": "light"
     },
     "output_type": "display_data"
    }
   ],
   "source": [
    "x = range(num_steps * num_query_points + 1)\n",
    "\n",
    "plt.fill_between(x, np.quantile(batch_mc_hv_regret, q=0.25, axis=0), np.quantile(batch_mc_hv_regret, q=0.75, axis=0), facecolor='r', alpha=0.25)\n",
    "plt.fill_between(x, np.quantile(mo_lp_hv_regret, q=0.25, axis=0), np.quantile(mo_lp_hv_regret, q=0.75, axis=0), facecolor='g', alpha=0.25)\n",
    "plt.plot(x, np.mean(batch_mc_hv_regret, axis=0), c='r', label='Batch MC')\n",
    "plt.plot(x, np.mean(mo_lp_hv_regret, axis=0), c='g', label='MO LP')\n",
    "plt.title(f\"Simple 1d input, Hypervolume error, {num_steps} iterations of batch size {num_query_points}\")\n",
    "plt.legend()\n",
    "plt.show()"
   ]
  },
  {
   "cell_type": "markdown",
   "metadata": {},
   "source": [
    "## 2d input functions from Gardner et al. 2014"
   ]
  },
  {
   "cell_type": "code",
   "execution_count": 9,
   "metadata": {},
   "outputs": [],
   "source": [
    "test_function = test_functions.Gardner2D()\n",
    "\n",
    "num_initial_points = 3\n",
    "num_query_points = 4\n",
    "num_steps = 5\n",
    "\n",
    "n_experiments = 10"
   ]
  },
  {
   "cell_type": "code",
   "execution_count": 10,
   "metadata": {},
   "outputs": [
    {
     "name": "stdout",
     "output_type": "stream",
     "text": [
      "Running Batch MC with batch size 4 for 5 iterations\n",
      "Optimization completed without errors\n",
      "Batch MC finished in 74.48116731643677s\n",
      "Running MO LP with batch size 4 for 5 iterations\n",
      "Optimization completed without errors\n",
      "MO LP finished in 14.208444833755493s\n",
      "Running Batch MC with batch size 4 for 5 iterations\n",
      "Optimization completed without errors\n",
      "Batch MC finished in 96.04512524604797s\n",
      "Running MO LP with batch size 4 for 5 iterations\n",
      "Optimization completed without errors\n",
      "MO LP finished in 14.294007301330566s\n",
      "Running Batch MC with batch size 4 for 5 iterations\n",
      "Optimization completed without errors\n",
      "Batch MC finished in 84.46810007095337s\n",
      "Running MO LP with batch size 4 for 5 iterations\n",
      "Optimization completed without errors\n",
      "MO LP finished in 14.62385869026184s\n",
      "Running Batch MC with batch size 4 for 5 iterations\n",
      "Optimization completed without errors\n",
      "Batch MC finished in 79.17019033432007s\n",
      "Running MO LP with batch size 4 for 5 iterations\n",
      "Optimization completed without errors\n",
      "MO LP finished in 15.484621047973633s\n",
      "Running Batch MC with batch size 4 for 5 iterations\n",
      "Optimization completed without errors\n",
      "Batch MC finished in 230.64029479026794s\n",
      "Running MO LP with batch size 4 for 5 iterations\n",
      "Optimization completed without errors\n",
      "MO LP finished in 14.591135740280151s\n",
      "Running Batch MC with batch size 4 for 5 iterations\n",
      "Optimization completed without errors\n",
      "Batch MC finished in 122.95592665672302s\n",
      "Running MO LP with batch size 4 for 5 iterations\n",
      "Optimization completed without errors\n",
      "MO LP finished in 15.142678022384644s\n",
      "Running Batch MC with batch size 4 for 5 iterations\n",
      "Optimization completed without errors\n",
      "Batch MC finished in 83.30555081367493s\n",
      "Running MO LP with batch size 4 for 5 iterations\n",
      "Optimization completed without errors\n",
      "MO LP finished in 16.590255737304688s\n",
      "Running Batch MC with batch size 4 for 5 iterations\n",
      "Optimization completed without errors\n",
      "Batch MC finished in 91.92462015151978s\n",
      "Running MO LP with batch size 4 for 5 iterations\n",
      "Optimization completed without errors\n",
      "MO LP finished in 15.805780172348022s\n",
      "Running Batch MC with batch size 4 for 5 iterations\n",
      "Optimization completed without errors\n",
      "Batch MC finished in 96.9271821975708s\n",
      "Running MO LP with batch size 4 for 5 iterations\n",
      "Optimization completed without errors\n",
      "MO LP finished in 15.058501958847046s\n",
      "Running Batch MC with batch size 4 for 5 iterations\n",
      "Optimization completed without errors\n",
      "Batch MC finished in 77.20430827140808s\n",
      "Running MO LP with batch size 4 for 5 iterations\n",
      "Optimization completed without errors\n",
      "MO LP finished in 14.968993186950684s\n"
     ]
    }
   ],
   "source": [
    "true_pf = read_true_pf(test_function.true_pf_filename)\n",
    "\n",
    "batch_mc_hv_regret = []\n",
    "mo_lp_hv_regret = []\n",
    "for _ in range(n_experiments):\n",
    "    batch_mc_observations, mo_lp_observations = run_experiment(test_function,\n",
    "                                                                test_function.n_objectives,\n",
    "                                                                test_function.search_space,\n",
    "                                                                num_initial_points,\n",
    "                                                                num_steps,\n",
    "                                                                num_query_points)\n",
    "\n",
    "    batch_mc_hv_regret.append(get_hv_regret(true_pf, batch_mc_observations, num_initial_points))\n",
    "    mo_lp_hv_regret.append(get_hv_regret(true_pf, mo_lp_observations, num_initial_points))"
   ]
  },
  {
   "cell_type": "code",
   "execution_count": 11,
   "metadata": {},
   "outputs": [],
   "source": [
    "batch_mc_hv_regret = np.array(batch_mc_hv_regret)\n",
    "mo_lp_hv_regret = np.array(mo_lp_hv_regret)"
   ]
  },
  {
   "cell_type": "code",
   "execution_count": 12,
   "metadata": {},
   "outputs": [
    {
     "data": {
      "image/png": "[encoded data removed]",
      "text/plain": [
       "<Figure size 432x288 with 1 Axes>"
      ]
     },
     "metadata": {
      "needs_background": "light"
     },
     "output_type": "display_data"
    }
   ],
   "source": [
    "x = range(num_steps * num_query_points + 1)\n",
    "\n",
    "plt.fill_between(x, np.quantile(batch_mc_hv_regret, q=0.25, axis=0), np.quantile(batch_mc_hv_regret, q=0.75, axis=0), facecolor='r', alpha=0.25)\n",
    "plt.fill_between(x, np.quantile(mo_lp_hv_regret, q=0.25, axis=0), np.quantile(mo_lp_hv_regret, q=0.75, axis=0), facecolor='g', alpha=0.25)\n",
    "plt.plot(x, np.mean(batch_mc_hv_regret, axis=0), c='r', label='Batch MC')\n",
    "plt.plot(x, np.mean(mo_lp_hv_regret, axis=0), c='g', label='MO LP')\n",
    "plt.title(f\"Gardner 2D, Hypervolume error, {num_steps} iterations of batch size {num_query_points}\")\n",
    "plt.legend()\n",
    "plt.show()"
   ]
  },
  {
   "cell_type": "code",
   "execution_count": null,
   "metadata": {},
   "outputs": [],
   "source": []
  }
 ],
 "metadata": {
  "interpreter": {
   "hash": "1c3dbd3a67db16cf835b28456000e09a35242e4f5b5ef244e9340c5632f77bd6"
  },
  "kernelspec": {
   "display_name": "Python 3 (ipykernel)",
   "language": "python",
   "name": "python3"
  },
  "language_info": {
   "codemirror_mode": {
    "name": "ipython",
    "version": 3
   },
   "file_extension": ".py",
   "mimetype": "text/x-python",
   "name": "python",
   "nbconvert_exporter": "python",
   "pygments_lexer": "ipython3",
   "version": "3.7.12"
  }
 },
 "nbformat": 4,
 "nbformat_minor": 2
}
