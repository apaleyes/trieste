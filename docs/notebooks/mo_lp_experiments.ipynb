{
 "cells": [
  {
   "cell_type": "code",
   "execution_count": 1,
   "metadata": {},
   "outputs": [],
   "source": [
    "%load_ext autoreload\n",
    "%autoreload 2\n",
    "%matplotlib inline"
   ]
  },
  {
   "cell_type": "code",
   "execution_count": 2,
   "metadata": {},
   "outputs": [
    {
     "name": "stderr",
     "output_type": "stream",
     "text": [
      "2022-01-23 11:39:24.531508: W tensorflow/stream_executor/platform/default/dso_loader.cc:64] Could not load dynamic library 'libcudart.so.11.0'; dlerror: libcudart.so.11.0: cannot open shared object file: No such file or directory\n",
      "2022-01-23 11:39:24.531550: I tensorflow/stream_executor/cuda/cudart_stub.cc:29] Ignore above cudart dlerror if you do not have a GPU set up on your machine.\n",
      "2022-01-23 11:39:27.772387: W tensorflow/stream_executor/platform/default/dso_loader.cc:64] Could not load dynamic library 'libcuda.so.1'; dlerror: libcuda.so.1: cannot open shared object file: No such file or directory\n",
      "2022-01-23 11:39:27.772429: W tensorflow/stream_executor/cuda/cuda_driver.cc:326] failed call to cuInit: UNKNOWN ERROR (303)\n",
      "2022-01-23 11:39:27.772748: I tensorflow/stream_executor/cuda/cuda_diagnostics.cc:156] kernel driver does not appear to be running on this host (DESKTOP-MGDBU2G): /proc/driver/nvidia/version does not exist\n",
      "2022-01-23 11:39:27.774072: I tensorflow/core/platform/cpu_feature_guard.cc:142] This TensorFlow binary is optimized with oneAPI Deep Neural Network Library (oneDNN) to use the following CPU instructions in performance-critical operations:  AVX2 FMA\n",
      "To enable them in other operations, rebuild TensorFlow with the appropriate compiler flags.\n"
     ]
    }
   ],
   "source": [
    "import os\n",
    "import math\n",
    "# import trieste\n",
    "import tensorflow as tf\n",
    "import numpy as np\n",
    "import matplotlib.pyplot as plt\n",
    "\n",
    "\n",
    "from mo_lp.experiment import single_run, Config\n",
    "from mo_lp import test_functions"
   ]
  },
  {
   "cell_type": "markdown",
   "metadata": {},
   "source": [
    "## Simple 1d input case"
   ]
  },
  {
   "cell_type": "code",
   "execution_count": 3,
   "metadata": {},
   "outputs": [
    {
     "name": "stderr",
     "output_type": "stream",
     "text": [
      "2022-01-23 11:39:31.777081: W tensorflow/python/util/util.cc:348] Sets are not currently considered sequences, but this may change in the future, so consider avoiding using them.\n"
     ]
    },
    {
     "name": "stdout",
     "output_type": "stream",
     "text": [
      "Running BatchMC with batch size 4 for 3 iterations\n"
     ]
    },
    {
     "name": "stderr",
     "output_type": "stream",
     "text": [
      "2022-01-23 11:39:33.083718: I tensorflow/compiler/mlir/mlir_graph_optimization_pass.cc:176] None of the MLIR Optimization Passes are enabled (registered 2)\n",
      "2022-01-23 11:39:33.130783: I tensorflow/core/platform/profile_utils/cpu_utils.cc:114] CPU Frequency: 2208005000 Hz\n"
     ]
    },
    {
     "name": "stdout",
     "output_type": "stream",
     "text": [
      "Optimization completed without errors\n",
      "Finished in 20.440828561782837s\n",
      "Running BatchMC with batch size 4 for 3 iterations\n",
      "Optimization completed without errors\n",
      "Finished in 18.449519634246826s\n",
      "Running BatchMC with batch size 4 for 3 iterations\n"
     ]
    },
    {
     "name": "stderr",
     "output_type": "stream",
     "text": [
      "2022-01-23 11:40:28.844431: W tensorflow/core/framework/cpu_allocator_impl.cc:80] Allocation of 1200000000 exceeds 10% of free system memory.\n",
      "2022-01-23 11:40:29.124646: W tensorflow/core/framework/cpu_allocator_impl.cc:80] Allocation of 1200000000 exceeds 10% of free system memory.\n",
      "2022-01-23 11:40:29.336487: W tensorflow/core/framework/cpu_allocator_impl.cc:80] Allocation of 1200000000 exceeds 10% of free system memory.\n"
     ]
    },
    {
     "name": "stdout",
     "output_type": "stream",
     "text": [
      "Optimization completed without errors\n",
      "Finished in 25.030828952789307s\n",
      "Running BatchMC with batch size 4 for 3 iterations\n",
      "Optimization completed without errors\n",
      "Finished in 19.159252166748047s\n",
      "Running BatchMC with batch size 4 for 3 iterations\n",
      "Optimization completed without errors\n",
      "Finished in 19.797374963760376s\n",
      "Running DistanceBased with batch size 4 for 3 iterations\n",
      "WARNING:tensorflow:From /home/ubuntu/projects/trieste/trieste/.venv37/lib/python3.7/site-packages/tensorflow/python/ops/array_ops.py:5049: calling gather (from tensorflow.python.ops.array_ops) with validate_indices is deprecated and will be removed in a future version.\n",
      "Instructions for updating:\n",
      "The `validate_indices` argument has no effect. Indices are always validated on CPU and never validated on GPU.\n",
      "Optimization completed without errors\n",
      "Finished in 12.750169038772583s\n",
      "Running DistanceBased with batch size 4 for 3 iterations\n",
      "Optimization completed without errors\n",
      "Finished in 12.325135707855225s\n",
      "Running DistanceBased with batch size 4 for 3 iterations\n",
      "Optimization completed without errors\n",
      "Finished in 12.030211210250854s\n",
      "Running DistanceBased with batch size 4 for 3 iterations\n",
      "Optimization completed without errors\n",
      "Finished in 12.20256233215332s\n",
      "Running DistanceBased with batch size 4 for 3 iterations\n",
      "Optimization completed without errors\n",
      "Finished in 11.908026218414307s\n"
     ]
    }
   ],
   "source": [
    "config_dict = {\n",
    "    \"test_function_name\": test_functions.Simple1D.name,\n",
    "    \"n_initial_points\": 3,\n",
    "    \"n_query_points\": 4,\n",
    "    \"n_optimization_steps\": 3,\n",
    "    \"n_repeats\": 5\n",
    "}\n",
    "\n",
    "\n",
    "config_dict[\"acquisition_method_name\"] = \"BatchMC\"\n",
    "config = Config.from_dict(config_dict)\n",
    "batch_mc_hv_regret = single_run(config)\n",
    "\n",
    "\n",
    "config_dict[\"acquisition_method_name\"] = \"DistanceBased\"\n",
    "config = Config.from_dict(config_dict)\n",
    "mo_lp_hv_regret = single_run(config)"
   ]
  },
  {
   "cell_type": "code",
   "execution_count": 4,
   "metadata": {},
   "outputs": [
    {
     "data": {
      "image/png": "[encoded data removed]",
      "text/plain": [
       "<Figure size 432x288 with 1 Axes>"
      ]
     },
     "metadata": {
      "needs_background": "light"
     },
     "output_type": "display_data"
    }
   ],
   "source": [
    "batch_mc_hv_regret = np.array(batch_mc_hv_regret)\n",
    "mo_lp_hv_regret = np.array(mo_lp_hv_regret)\n",
    "\n",
    "x = range(config.n_optimization_steps * config.n_query_points + 1)\n",
    "\n",
    "plt.fill_between(x, np.quantile(batch_mc_hv_regret, q=0.25, axis=0), np.quantile(batch_mc_hv_regret, q=0.75, axis=0), facecolor='r', alpha=0.25)\n",
    "plt.fill_between(x, np.quantile(mo_lp_hv_regret, q=0.25, axis=0), np.quantile(mo_lp_hv_regret, q=0.75, axis=0), facecolor='g', alpha=0.25)\n",
    "plt.plot(x, np.mean(batch_mc_hv_regret, axis=0), c='r', label='Batch MC')\n",
    "plt.plot(x, np.mean(mo_lp_hv_regret, axis=0), c='g', label='MO LP')\n",
    "plt.title(f\"{config.test_function_name}, Hypervolume error, {config.n_optimization_steps} iterations of batch size {config.n_query_points}\")\n",
    "plt.legend()\n",
    "plt.show()"
   ]
  },
  {
   "cell_type": "markdown",
   "metadata": {},
   "source": [
    "## 2d input functions from Gardner et al. 2014"
   ]
  },
  {
   "cell_type": "code",
   "execution_count": 5,
   "metadata": {},
   "outputs": [
    {
     "name": "stdout",
     "output_type": "stream",
     "text": [
      "Running BatchMC with batch size 4 for 3 iterations\n",
      "Optimization completed without errors\n",
      "Finished in 43.859554290771484s\n",
      "Running BatchMC with batch size 4 for 3 iterations\n",
      "Optimization completed without errors\n",
      "Finished in 59.75718832015991s\n",
      "Running BatchMC with batch size 4 for 3 iterations\n",
      "Optimization completed without errors\n",
      "Finished in 54.949951171875s\n",
      "Running BatchMC with batch size 4 for 3 iterations\n"
     ]
    },
    {
     "name": "stderr",
     "output_type": "stream",
     "text": [
      "2022-01-23 10:54:34.243786: W tensorflow/core/framework/cpu_allocator_impl.cc:80] Allocation of 1152000000 exceeds 10% of free system memory.\n",
      "2022-01-23 10:54:34.536075: W tensorflow/core/framework/cpu_allocator_impl.cc:80] Allocation of 1152000000 exceeds 10% of free system memory.\n",
      "2022-01-23 10:54:34.748671: W tensorflow/core/framework/cpu_allocator_impl.cc:80] Allocation of 1152000000 exceeds 10% of free system memory.\n"
     ]
    },
    {
     "name": "stdout",
     "output_type": "stream",
     "text": [
      "Optimization completed without errors\n",
      "Finished in 38.382718086242676s\n",
      "Running BatchMC with batch size 4 for 3 iterations\n",
      "Optimization completed without errors\n",
      "Finished in 53.63039040565491s\n",
      "Running DistanceBased with batch size 4 for 3 iterations\n",
      "Optimization completed without errors\n",
      "Finished in 13.392547369003296s\n",
      "Running DistanceBased with batch size 4 for 3 iterations\n",
      "Optimization completed without errors\n",
      "Finished in 15.401167869567871s\n",
      "Running DistanceBased with batch size 4 for 3 iterations\n",
      "Optimization completed without errors\n",
      "Finished in 13.623733520507812s\n",
      "Running DistanceBased with batch size 4 for 3 iterations\n",
      "Optimization completed without errors\n",
      "Finished in 14.074432849884033s\n",
      "Running DistanceBased with batch size 4 for 3 iterations\n",
      "Optimization completed without errors\n",
      "Finished in 13.70213508605957s\n"
     ]
    }
   ],
   "source": [
    "config_dict = {\n",
    "    \"test_function_name\": test_functions.Gardner2D.name,\n",
    "    \"n_initial_points\": 3,\n",
    "    \"n_query_points\": 4,\n",
    "    \"n_optimization_steps\": 3,\n",
    "    \"n_repeats\": 5\n",
    "}\n",
    "\n",
    "\n",
    "config_dict[\"acquisition_method_name\"] = \"BatchMC\"\n",
    "config = Config.from_dict(config_dict)\n",
    "batch_mc_hv_regret = single_run(config)\n",
    "\n",
    "\n",
    "config_dict[\"acquisition_method_name\"] = \"DistanceBased\"\n",
    "config = Config.from_dict(config_dict)\n",
    "mo_lp_hv_regret = single_run(config)"
   ]
  },
  {
   "cell_type": "code",
   "execution_count": 6,
   "metadata": {},
   "outputs": [
    {
     "data": {
      "image/png": "[encoded data removed]",
      "text/plain": [
       "<Figure size 432x288 with 1 Axes>"
      ]
     },
     "metadata": {
      "needs_background": "light"
     },
     "output_type": "display_data"
    }
   ],
   "source": [
    "batch_mc_hv_regret = np.array(batch_mc_hv_regret)\n",
    "mo_lp_hv_regret = np.array(mo_lp_hv_regret)\n",
    "\n",
    "x = range(config.n_optimization_steps * config.n_query_points + 1)\n",
    "\n",
    "plt.fill_between(x, np.quantile(batch_mc_hv_regret, q=0.25, axis=0), np.quantile(batch_mc_hv_regret, q=0.75, axis=0), facecolor='r', alpha=0.25)\n",
    "plt.fill_between(x, np.quantile(mo_lp_hv_regret, q=0.25, axis=0), np.quantile(mo_lp_hv_regret, q=0.75, axis=0), facecolor='g', alpha=0.25)\n",
    "plt.plot(x, np.mean(batch_mc_hv_regret, axis=0), c='r', label='Batch MC')\n",
    "plt.plot(x, np.mean(mo_lp_hv_regret, axis=0), c='g', label='MO LP')\n",
    "plt.title(f\"{config.test_function_name}, Hypervolume error, {config.n_optimization_steps} iterations of batch size {config.n_query_points}\")\n",
    "plt.legend()\n",
    "plt.show()"
   ]
  },
  {
   "cell_type": "markdown",
   "metadata": {},
   "source": [
    "## Function with 3 objectives"
   ]
  },
  {
   "cell_type": "code",
   "execution_count": null,
   "metadata": {},
   "outputs": [
    {
     "name": "stdout",
     "output_type": "stream",
     "text": [
      "Running BatchMC with batch size 3 for 4 iterations\n"
     ]
    },
    {
     "name": "stderr",
     "output_type": "stream",
     "text": [
      "2022-01-23 11:30:11.719779: W tensorflow/core/framework/cpu_allocator_impl.cc:80] Allocation of 3456000000 exceeds 10% of free system memory.\n",
      "2022-01-23 11:30:12.453303: W tensorflow/core/framework/cpu_allocator_impl.cc:80] Allocation of 3456000000 exceeds 10% of free system memory.\n"
     ]
    }
   ],
   "source": [
    "config_dict = {\n",
    "    \"test_function_name\": test_functions.DTLZ2.name,\n",
    "    \"n_initial_points\": 3,\n",
    "    \"n_query_points\": 3,\n",
    "    \"n_optimization_steps\": 4,\n",
    "    \"n_repeats\": 5\n",
    "}\n",
    "\n",
    "\n",
    "config_dict[\"acquisition_method_name\"] = \"BatchMC\"\n",
    "config = Config.from_dict(config_dict)\n",
    "batch_mc_hv_regret = single_run(config)\n",
    "\n",
    "\n",
    "config_dict[\"acquisition_method_name\"] = \"DistanceBased\"\n",
    "config = Config.from_dict(config_dict)\n",
    "mo_lp_hv_regret = single_run(config)"
   ]
  }
 ],
 "metadata": {
  "interpreter": {
   "hash": "1c3dbd3a67db16cf835b28456000e09a35242e4f5b5ef244e9340c5632f77bd6"
  },
  "kernelspec": {
   "display_name": "Python 3 (ipykernel)",
   "language": "python",
   "name": "python3"
  },
  "language_info": {
   "codemirror_mode": {
    "name": "ipython",
    "version": 3
   },
   "file_extension": ".py",
   "mimetype": "text/x-python",
   "name": "python",
   "nbconvert_exporter": "python",
   "pygments_lexer": "ipython3",
   "version": "3.7.12"
  }
 },
 "nbformat": 4,
 "nbformat_minor": 2
}
