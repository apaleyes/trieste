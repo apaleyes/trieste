{
 "cells": [
  {
   "cell_type": "code",
   "execution_count": null,
   "metadata": {},
   "outputs": [],
   "source": [
    "%load_ext autoreload\n",
    "%autoreload 2\n",
    "%matplotlib inline"
   ]
  },
  {
   "cell_type": "code",
   "execution_count": null,
   "metadata": {},
   "outputs": [],
   "source": [
    "import os\n",
    "import math\n",
    "import trieste\n",
    "import tensorflow as tf\n",
    "import numpy as np\n",
    "import matplotlib.pyplot as plt\n",
    "\n",
    "\n",
    "from mo_lp_true_pf.generate_true_pareto_fronts import read_true_pf\n",
    "from mo_lp.experiment import run_experiment, get_hv_regret"
   ]
  },
  {
   "cell_type": "markdown",
   "metadata": {},
   "source": [
    "## Simple 1d input case"
   ]
  },
  {
   "cell_type": "code",
   "execution_count": null,
   "metadata": {},
   "outputs": [],
   "source": [
    "search_space = trieste.space.Box([0], [2*math.pi])\n",
    "\n",
    "def f1(x):\n",
    "    return tf.cos(2 * x) + tf.sin(x)\n",
    "\n",
    "def f2(x):\n",
    "    return 0.2 * (tf.cos(x) - tf.sin(x)) + 0.3\n",
    "\n",
    "def f(x):\n",
    "    return tf.concat([f1(x), f2(x)], axis=-1)"
   ]
  },
  {
   "cell_type": "code",
   "execution_count": null,
   "metadata": {},
   "outputs": [],
   "source": [
    "num_initial_points = 3\n",
    "num_query_points = 4\n",
    "num_steps = 3\n",
    "n_obj = 2\n",
    "\n",
    "n_experiments = 10"
   ]
  },
  {
   "cell_type": "code",
   "execution_count": null,
   "metadata": {},
   "outputs": [],
   "source": [
    "from mo_lp_true_pf.generate_true_pareto_fronts import SIMPLE_1D_INPUT_FILENAME\n",
    "true_pf = read_true_pf(os.path.join(\"mo_lp_true_pf\", SIMPLE_1D_INPUT_FILENAME))\n",
    "\n",
    "batch_mc_hv_regret = []\n",
    "mo_lp_hv_regret = []\n",
    "for _ in range(n_experiments):\n",
    "    batch_mc_observations, mo_lp_observations = run_experiment(f,\n",
    "                                                                n_obj,\n",
    "                                                                search_space,\n",
    "                                                                num_initial_points,\n",
    "                                                                num_steps,\n",
    "                                                                num_query_points)\n",
    "\n",
    "    batch_mc_hv_regret.append(get_hv_regret(true_pf, batch_mc_observations, num_initial_points))\n",
    "    mo_lp_hv_regret.append(get_hv_regret(true_pf, mo_lp_observations, num_initial_points))"
   ]
  },
  {
   "cell_type": "code",
   "execution_count": null,
   "metadata": {},
   "outputs": [],
   "source": [
    "batch_mc_hv_regret = np.array(batch_mc_hv_regret)\n",
    "mo_lp_hv_regret = np.array(mo_lp_hv_regret)"
   ]
  },
  {
   "cell_type": "code",
   "execution_count": null,
   "metadata": {},
   "outputs": [],
   "source": [
    "x = range(num_steps * num_query_points + 1)\n",
    "\n",
    "plt.fill_between(x, np.quantile(batch_mc_hv_regret, q=0.25, axis=0), np.quantile(batch_mc_hv_regret, q=0.75, axis=0), facecolor='r', alpha=0.25)\n",
    "plt.fill_between(x, np.quantile(mo_lp_hv_regret, q=0.25, axis=0), np.quantile(mo_lp_hv_regret, q=0.75, axis=0), facecolor='g', alpha=0.25)\n",
    "plt.plot(x, np.mean(batch_mc_hv_regret, axis=0), c='r', label='Batch MC')\n",
    "plt.plot(x, np.mean(mo_lp_hv_regret, axis=0), c='g', label='MO LP')\n",
    "plt.title(f\"Simple 1d input, Hypervolume error, {num_steps} iterations of batch size {num_query_points}\")\n",
    "plt.legend()\n",
    "plt.show()"
   ]
  },
  {
   "cell_type": "markdown",
   "metadata": {},
   "source": [
    "## 2d input functions from Gardner et al. 2014"
   ]
  },
  {
   "cell_type": "code",
   "execution_count": null,
   "metadata": {},
   "outputs": [],
   "source": [
    "search_space = trieste.space.Box([0, 0], [2*math.pi, 2*math.pi])\n",
    "\n",
    "def f1(input_data):\n",
    "    x, y = input_data[..., -2], input_data[..., -1]\n",
    "    z = tf.cos(2.0 * x) * tf.cos(y) + tf.sin(x)\n",
    "    return z[:, None]\n",
    "\n",
    "def f2(input_data):\n",
    "    x, y = input_data[:, -2], input_data[:, -1]\n",
    "    # changes are made so that the function is between 0 and 1\n",
    "    z = 1.0 - (tf.cos(x) * tf.cos(y) - tf.sin(x) * tf.sin(y) + 1.0) / 2.0\n",
    "    return z[:, None]\n",
    "\n",
    "def f(x):\n",
    "    return tf.concat([f1(x), f2(x)], axis=-1)"
   ]
  },
  {
   "cell_type": "code",
   "execution_count": null,
   "metadata": {},
   "outputs": [],
   "source": [
    "num_initial_points = 3\n",
    "num_query_points = 4\n",
    "num_steps = 5\n",
    "n_obj = 2\n",
    "\n",
    "n_experiments = 10"
   ]
  },
  {
   "cell_type": "code",
   "execution_count": null,
   "metadata": {},
   "outputs": [],
   "source": [
    "from mo_lp_true_pf.generate_true_pareto_fronts import GARDNER_2D_INPUT_FILENAME\n",
    "true_pf = read_true_pf(os.path.join(\"mo_lp_true_pf\", GARDNER_2D_INPUT_FILENAME))\n",
    "\n",
    "batch_mc_hv_regret = []\n",
    "mo_lp_hv_regret = []\n",
    "for _ in range(n_experiments):\n",
    "    batch_mc_observations, mo_lp_observations = run_experiment(f,\n",
    "                                                                n_obj,\n",
    "                                                                search_space,\n",
    "                                                                num_initial_points,\n",
    "                                                                num_steps,\n",
    "                                                                num_query_points)\n",
    "\n",
    "    batch_mc_hv_regret.append(get_hv_regret(true_pf, batch_mc_observations, num_initial_points))\n",
    "    mo_lp_hv_regret.append(get_hv_regret(true_pf, mo_lp_observations, num_initial_points))"
   ]
  },
  {
   "cell_type": "code",
   "execution_count": null,
   "metadata": {},
   "outputs": [],
   "source": [
    "batch_mc_hv_regret = np.array(batch_mc_hv_regret)\n",
    "mo_lp_hv_regret = np.array(mo_lp_hv_regret)"
   ]
  },
  {
   "cell_type": "code",
   "execution_count": null,
   "metadata": {},
   "outputs": [],
   "source": [
    "x = range(num_steps * num_query_points + 1)\n",
    "\n",
    "plt.fill_between(x, np.quantile(batch_mc_hv_regret, q=0.25, axis=0), np.quantile(batch_mc_hv_regret, q=0.75, axis=0), facecolor='r', alpha=0.25)\n",
    "plt.fill_between(x, np.quantile(mo_lp_hv_regret, q=0.25, axis=0), np.quantile(mo_lp_hv_regret, q=0.75, axis=0), facecolor='g', alpha=0.25)\n",
    "plt.plot(x, np.mean(batch_mc_hv_regret, axis=0), c='r', label='Batch MC')\n",
    "plt.plot(x, np.mean(mo_lp_hv_regret, axis=0), c='g', label='MO LP')\n",
    "plt.title(f\"Simple 1d input, Hypervolume error, {num_steps} iterations of batch size {num_query_points}\")\n",
    "plt.legend()\n",
    "plt.show()"
   ]
  },
  {
   "cell_type": "code",
   "execution_count": null,
   "metadata": {},
   "outputs": [],
   "source": []
  }
 ],
 "metadata": {
  "interpreter": {
   "hash": "1c3dbd3a67db16cf835b28456000e09a35242e4f5b5ef244e9340c5632f77bd6"
  },
  "kernelspec": {
   "display_name": "Python 3.8.10 64-bit ('.venv': venv)",
   "language": "python",
   "name": "python3"
  },
  "language_info": {
   "codemirror_mode": {
    "name": "ipython",
    "version": 3
   },
   "file_extension": ".py",
   "mimetype": "text/x-python",
   "name": "python",
   "nbconvert_exporter": "python",
   "pygments_lexer": "ipython3",
   "version": "3.8.10"
  },
  "orig_nbformat": 4
 },
 "nbformat": 4,
 "nbformat_minor": 2
}
