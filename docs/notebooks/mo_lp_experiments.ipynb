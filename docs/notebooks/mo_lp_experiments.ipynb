{
 "cells": [
  {
   "cell_type": "code",
   "execution_count": 1,
   "metadata": {},
   "outputs": [],
   "source": [
    "%load_ext autoreload\n",
    "%autoreload 2\n",
    "%matplotlib inline"
   ]
  },
  {
   "cell_type": "code",
   "execution_count": 7,
   "metadata": {},
   "outputs": [],
   "source": [
    "import os\n",
    "import math\n",
    "import trieste\n",
    "import tensorflow as tf\n",
    "import numpy as np\n",
    "import matplotlib.pyplot as plt\n",
    "\n",
    "\n",
    "from true_pf.generate_true_pareto_fronts import read_true_pf\n",
    "from experiment import run_experiment, get_hv_regret"
   ]
  },
  {
   "cell_type": "markdown",
   "metadata": {},
   "source": [
    "## Simple 1d input case"
   ]
  },
  {
   "cell_type": "code",
   "execution_count": 4,
   "metadata": {},
   "outputs": [],
   "source": [
    "search_space = trieste.space.Box([0], [2*math.pi])\n",
    "\n",
    "def f1(x):\n",
    "    return tf.cos(2 * x) + tf.sin(x)\n",
    "\n",
    "def f2(x):\n",
    "    return 0.2 * (tf.cos(x) - tf.sin(x)) + 0.3\n",
    "\n",
    "def f(x):\n",
    "    return tf.concat([f1(x), f2(x)], axis=-1)"
   ]
  },
  {
   "cell_type": "code",
   "execution_count": 16,
   "metadata": {},
   "outputs": [],
   "source": [
    "num_initial_points = 3\n",
    "num_query_points = 4\n",
    "num_steps = 3\n",
    "n_obj = 2\n",
    "\n",
    "n_experiments = 10"
   ]
  },
  {
   "cell_type": "code",
   "execution_count": 18,
   "metadata": {},
   "outputs": [
    {
     "name": "stdout",
     "output_type": "stream",
     "text": [
      "Running Batch MC with batch size 4 for 3 iterations\n"
     ]
    },
    {
     "name": "stderr",
     "output_type": "stream",
     "text": [
      "2021-12-07 14:48:28.528279: W tensorflow/core/grappler/optimizers/loop_optimizer.cc:907] Skipping loop optimization for Merge node with control input: assert_greater_equal/Assert/AssertGuard/branch_executed/_9\n",
      "2021-12-07 14:48:32.504259: W tensorflow/core/grappler/optimizers/loop_optimizer.cc:907] Skipping loop optimization for Merge node with control input: assert_greater_equal/Assert/AssertGuard/branch_executed/_9\n",
      "2021-12-07 14:48:36.825669: W tensorflow/core/grappler/optimizers/loop_optimizer.cc:907] Skipping loop optimization for Merge node with control input: assert_greater_equal/Assert/AssertGuard/branch_executed/_9\n"
     ]
    },
    {
     "name": "stdout",
     "output_type": "stream",
     "text": [
      "Optimization completed without errors\n",
      "Batch MC finished in 13.436025381088257s\n",
      "Running MO LP with batch size 4 for 3 iterations\n",
      "WARNING:tensorflow:5 out of the last 13 calls to <function expected_hv_improvement.__call__ at 0x7faa3413dee0> triggered tf.function retracing. Tracing is expensive and the excessive number of tracings could be due to (1) creating @tf.function repeatedly in a loop, (2) passing tensors with different shapes, (3) passing Python objects instead of tensors. For (1), please define your @tf.function outside of the loop. For (2), @tf.function has experimental_relax_shapes=True option that relaxes argument shapes that can avoid unnecessary retracing. For (3), please refer to https://www.tensorflow.org/guide/function#controlling_retracing and https://www.tensorflow.org/api_docs/python/tf/function for  more details.\n",
      "Optimization completed without errors\n",
      "MO LP finished in 19.178666830062866s\n",
      "Running Batch MC with batch size 4 for 3 iterations\n"
     ]
    },
    {
     "name": "stderr",
     "output_type": "stream",
     "text": [
      "2021-12-07 14:49:00.747093: W tensorflow/core/grappler/optimizers/loop_optimizer.cc:907] Skipping loop optimization for Merge node with control input: assert_greater_equal/Assert/AssertGuard/branch_executed/_9\n",
      "2021-12-07 14:49:04.647291: W tensorflow/core/grappler/optimizers/loop_optimizer.cc:907] Skipping loop optimization for Merge node with control input: assert_greater_equal/Assert/AssertGuard/branch_executed/_9\n",
      "2021-12-07 14:49:09.179977: W tensorflow/core/grappler/optimizers/loop_optimizer.cc:907] Skipping loop optimization for Merge node with control input: assert_greater_equal/Assert/AssertGuard/branch_executed/_9\n"
     ]
    },
    {
     "name": "stdout",
     "output_type": "stream",
     "text": [
      "Optimization completed without errors\n",
      "Batch MC finished in 13.227159976959229s\n",
      "Running MO LP with batch size 4 for 3 iterations\n",
      "Optimization completed without errors\n",
      "MO LP finished in 18.998299837112427s\n",
      "Running Batch MC with batch size 4 for 3 iterations\n"
     ]
    },
    {
     "name": "stderr",
     "output_type": "stream",
     "text": [
      "2021-12-07 14:49:32.996878: W tensorflow/core/grappler/optimizers/loop_optimizer.cc:907] Skipping loop optimization for Merge node with control input: assert_greater_equal/Assert/AssertGuard/branch_executed/_9\n",
      "2021-12-07 14:49:36.643518: W tensorflow/core/grappler/optimizers/loop_optimizer.cc:907] Skipping loop optimization for Merge node with control input: assert_greater_equal/Assert/AssertGuard/branch_executed/_9\n",
      "2021-12-07 14:49:40.915784: W tensorflow/core/grappler/optimizers/loop_optimizer.cc:907] Skipping loop optimization for Merge node with control input: assert_greater_equal/Assert/AssertGuard/branch_executed/_9\n"
     ]
    },
    {
     "name": "stdout",
     "output_type": "stream",
     "text": [
      "Optimization completed without errors\n",
      "Batch MC finished in 11.882292985916138s\n",
      "Running MO LP with batch size 4 for 3 iterations\n",
      "Optimization completed without errors\n",
      "MO LP finished in 18.908879280090332s\n",
      "Running Batch MC with batch size 4 for 3 iterations\n"
     ]
    },
    {
     "name": "stderr",
     "output_type": "stream",
     "text": [
      "2021-12-07 14:50:04.693381: W tensorflow/core/grappler/optimizers/loop_optimizer.cc:907] Skipping loop optimization for Merge node with control input: assert_greater_equal/Assert/AssertGuard/branch_executed/_9\n",
      "2021-12-07 14:50:08.199096: W tensorflow/core/grappler/optimizers/loop_optimizer.cc:907] Skipping loop optimization for Merge node with control input: assert_greater_equal/Assert/AssertGuard/branch_executed/_9\n",
      "2021-12-07 14:50:12.092299: W tensorflow/core/grappler/optimizers/loop_optimizer.cc:907] Skipping loop optimization for Merge node with control input: assert_greater_equal/Assert/AssertGuard/branch_executed/_9\n"
     ]
    },
    {
     "name": "stdout",
     "output_type": "stream",
     "text": [
      "Optimization completed without errors\n",
      "Batch MC finished in 11.870822668075562s\n",
      "Running MO LP with batch size 4 for 3 iterations\n",
      "Optimization completed without errors\n",
      "MO LP finished in 18.91974902153015s\n",
      "Running Batch MC with batch size 4 for 3 iterations\n"
     ]
    },
    {
     "name": "stderr",
     "output_type": "stream",
     "text": [
      "2021-12-07 14:50:35.766280: W tensorflow/core/grappler/optimizers/loop_optimizer.cc:907] Skipping loop optimization for Merge node with control input: assert_greater_equal/Assert/AssertGuard/branch_executed/_9\n",
      "2021-12-07 14:50:39.223400: W tensorflow/core/grappler/optimizers/loop_optimizer.cc:907] Skipping loop optimization for Merge node with control input: assert_greater_equal/Assert/AssertGuard/branch_executed/_9\n",
      "2021-12-07 14:50:42.859795: W tensorflow/core/grappler/optimizers/loop_optimizer.cc:907] Skipping loop optimization for Merge node with control input: assert_greater_equal/Assert/AssertGuard/branch_executed/_9\n"
     ]
    },
    {
     "name": "stdout",
     "output_type": "stream",
     "text": [
      "Optimization completed without errors\n",
      "Batch MC finished in 11.504424571990967s\n",
      "Running MO LP with batch size 4 for 3 iterations\n",
      "Optimization completed without errors\n",
      "MO LP finished in 18.618830680847168s\n",
      "Running Batch MC with batch size 4 for 3 iterations\n"
     ]
    },
    {
     "name": "stderr",
     "output_type": "stream",
     "text": [
      "2021-12-07 14:51:06.286620: W tensorflow/core/grappler/optimizers/loop_optimizer.cc:907] Skipping loop optimization for Merge node with control input: assert_greater_equal/Assert/AssertGuard/branch_executed/_9\n",
      "2021-12-07 14:51:09.773836: W tensorflow/core/grappler/optimizers/loop_optimizer.cc:907] Skipping loop optimization for Merge node with control input: assert_greater_equal/Assert/AssertGuard/branch_executed/_9\n",
      "2021-12-07 14:51:13.829114: W tensorflow/core/grappler/optimizers/loop_optimizer.cc:907] Skipping loop optimization for Merge node with control input: assert_greater_equal/Assert/AssertGuard/branch_executed/_9\n"
     ]
    },
    {
     "name": "stdout",
     "output_type": "stream",
     "text": [
      "Optimization completed without errors\n",
      "Batch MC finished in 11.961633920669556s\n",
      "Running MO LP with batch size 4 for 3 iterations\n",
      "Optimization completed without errors\n",
      "MO LP finished in 18.935208320617676s\n",
      "Running Batch MC with batch size 4 for 3 iterations\n"
     ]
    },
    {
     "name": "stderr",
     "output_type": "stream",
     "text": [
      "2021-12-07 14:51:37.547241: W tensorflow/core/grappler/optimizers/loop_optimizer.cc:907] Skipping loop optimization for Merge node with control input: assert_greater_equal/Assert/AssertGuard/branch_executed/_9\n",
      "2021-12-07 14:51:41.278059: W tensorflow/core/grappler/optimizers/loop_optimizer.cc:907] Skipping loop optimization for Merge node with control input: assert_greater_equal/Assert/AssertGuard/branch_executed/_9\n",
      "2021-12-07 14:51:45.573130: W tensorflow/core/grappler/optimizers/loop_optimizer.cc:907] Skipping loop optimization for Merge node with control input: assert_greater_equal/Assert/AssertGuard/branch_executed/_9\n"
     ]
    },
    {
     "name": "stdout",
     "output_type": "stream",
     "text": [
      "Optimization completed without errors\n",
      "Batch MC finished in 12.452701807022095s\n",
      "Running MO LP with batch size 4 for 3 iterations\n",
      "Optimization completed without errors\n",
      "MO LP finished in 18.83633518218994s\n",
      "Running Batch MC with batch size 4 for 3 iterations\n"
     ]
    },
    {
     "name": "stderr",
     "output_type": "stream",
     "text": [
      "2021-12-07 14:52:09.356330: W tensorflow/core/grappler/optimizers/loop_optimizer.cc:907] Skipping loop optimization for Merge node with control input: assert_greater_equal/Assert/AssertGuard/branch_executed/_9\n",
      "2021-12-07 14:52:13.167934: W tensorflow/core/grappler/optimizers/loop_optimizer.cc:907] Skipping loop optimization for Merge node with control input: assert_greater_equal/Assert/AssertGuard/branch_executed/_9\n",
      "2021-12-07 14:52:17.087722: W tensorflow/core/grappler/optimizers/loop_optimizer.cc:907] Skipping loop optimization for Merge node with control input: assert_greater_equal/Assert/AssertGuard/branch_executed/_9\n"
     ]
    },
    {
     "name": "stdout",
     "output_type": "stream",
     "text": [
      "Optimization completed without errors\n",
      "Batch MC finished in 12.294238090515137s\n",
      "Running MO LP with batch size 4 for 3 iterations\n",
      "Optimization completed without errors\n",
      "MO LP finished in 18.835248470306396s\n",
      "Running Batch MC with batch size 4 for 3 iterations\n"
     ]
    },
    {
     "name": "stderr",
     "output_type": "stream",
     "text": [
      "2021-12-07 14:52:40.882895: W tensorflow/core/grappler/optimizers/loop_optimizer.cc:907] Skipping loop optimization for Merge node with control input: assert_greater_equal/Assert/AssertGuard/branch_executed/_9\n",
      "2021-12-07 14:52:45.426270: W tensorflow/core/grappler/optimizers/loop_optimizer.cc:907] Skipping loop optimization for Merge node with control input: assert_greater_equal/Assert/AssertGuard/branch_executed/_9\n",
      "2021-12-07 14:52:50.509003: W tensorflow/core/grappler/optimizers/loop_optimizer.cc:907] Skipping loop optimization for Merge node with control input: assert_greater_equal/Assert/AssertGuard/branch_executed/_9\n"
     ]
    },
    {
     "name": "stdout",
     "output_type": "stream",
     "text": [
      "Optimization completed without errors\n",
      "Batch MC finished in 14.554556846618652s\n",
      "Running MO LP with batch size 4 for 3 iterations\n",
      "Optimization completed without errors\n",
      "MO LP finished in 25.70821714401245s\n",
      "Running Batch MC with batch size 4 for 3 iterations\n"
     ]
    },
    {
     "name": "stderr",
     "output_type": "stream",
     "text": [
      "2021-12-07 14:53:22.062256: W tensorflow/core/grappler/optimizers/loop_optimizer.cc:907] Skipping loop optimization for Merge node with control input: assert_greater_equal/Assert/AssertGuard/branch_executed/_9\n",
      "2021-12-07 14:53:28.051194: W tensorflow/core/grappler/optimizers/loop_optimizer.cc:907] Skipping loop optimization for Merge node with control input: assert_greater_equal/Assert/AssertGuard/branch_executed/_9\n",
      "2021-12-07 14:53:34.697798: W tensorflow/core/grappler/optimizers/loop_optimizer.cc:907] Skipping loop optimization for Merge node with control input: assert_greater_equal/Assert/AssertGuard/branch_executed/_9\n"
     ]
    },
    {
     "name": "stdout",
     "output_type": "stream",
     "text": [
      "Optimization completed without errors\n",
      "Batch MC finished in 18.30903458595276s\n",
      "Running MO LP with batch size 4 for 3 iterations\n",
      "Optimization completed without errors\n",
      "MO LP finished in 24.73646855354309s\n"
     ]
    }
   ],
   "source": [
    "from true_pf.generate_true_pareto_fronts import SIMPLE_1D_INPUT_FILENAME\n",
    "true_pf = read_true_pf(os.path.join(\"true_pf\", SIMPLE_1D_INPUT_FILENAME))\n",
    "\n",
    "batch_mc_hv_regret = []\n",
    "mo_lp_hv_regret = []\n",
    "for _ in range(n_experiments):\n",
    "    batch_mc_observations, mo_lp_observations = run_experiment(f,\n",
    "                                                                n_obj,\n",
    "                                                                search_space,\n",
    "                                                                num_initial_points,\n",
    "                                                                num_steps,\n",
    "                                                                num_query_points)\n",
    "\n",
    "    batch_mc_hv_regret.append(get_hv_regret(true_pf, batch_mc_observations, num_initial_points))\n",
    "    mo_lp_hv_regret.append(get_hv_regret(true_pf, mo_lp_observations, num_initial_points))"
   ]
  },
  {
   "cell_type": "code",
   "execution_count": 19,
   "metadata": {},
   "outputs": [],
   "source": [
    "batch_mc_hv_regret = np.array(batch_mc_hv_regret)\n",
    "mo_lp_hv_regret = np.array(mo_lp_hv_regret)"
   ]
  },
  {
   "cell_type": "code",
   "execution_count": 23,
   "metadata": {},
   "outputs": [
    {
     "data": {
      "image/png": "[encoded data removed]",
      "text/plain": [
       "<Figure size 432x288 with 1 Axes>"
      ]
     },
     "metadata": {
      "needs_background": "light"
     },
     "output_type": "display_data"
    }
   ],
   "source": [
    "x = range(num_steps * num_query_points + 1)\n",
    "\n",
    "plt.fill_between(x, np.quantile(batch_mc_hv_regret, q=0.25, axis=0), np.quantile(batch_mc_hv_regret, q=0.75, axis=0), facecolor='r', alpha=0.25)\n",
    "plt.fill_between(x, np.quantile(mo_lp_hv_regret, q=0.25, axis=0), np.quantile(mo_lp_hv_regret, q=0.75, axis=0), facecolor='g', alpha=0.25)\n",
    "plt.plot(x, np.mean(batch_mc_hv_regret, axis=0), c='r', label='Batch MC')\n",
    "plt.plot(x, np.mean(mo_lp_hv_regret, axis=0), c='g', label='MO LP')\n",
    "plt.title(f\"Simple 1d input, Hypervolume error, {num_steps} iterations of batch size {num_query_points}\")\n",
    "plt.legend()\n",
    "plt.show()"
   ]
  },
  {
   "cell_type": "markdown",
   "metadata": {},
   "source": [
    "## 2d input functions from Gardner et al. 2014"
   ]
  },
  {
   "cell_type": "code",
   "execution_count": 24,
   "metadata": {},
   "outputs": [],
   "source": [
    "search_space = trieste.space.Box([0, 0], [2*math.pi, 2*math.pi])\n",
    "\n",
    "def f1(input_data):\n",
    "    x, y = input_data[..., -2], input_data[..., -1]\n",
    "    z = tf.cos(2.0 * x) * tf.cos(y) + tf.sin(x)\n",
    "    return z[:, None]\n",
    "\n",
    "def f2(input_data):\n",
    "    x, y = input_data[:, -2], input_data[:, -1]\n",
    "    # changes are made so that the function is between 0 and 1\n",
    "    z = 1.0 - (tf.cos(x) * tf.cos(y) - tf.sin(x) * tf.sin(y) + 1.0) / 2.0\n",
    "    return z[:, None]\n",
    "\n",
    "def f(x):\n",
    "    return tf.concat([f1(x), f2(x)], axis=-1)"
   ]
  },
  {
   "cell_type": "code",
   "execution_count": 25,
   "metadata": {},
   "outputs": [],
   "source": [
    "num_initial_points = 3\n",
    "num_query_points = 4\n",
    "num_steps = 5\n",
    "n_obj = 2\n",
    "\n",
    "n_experiments = 10"
   ]
  },
  {
   "cell_type": "code",
   "execution_count": 26,
   "metadata": {},
   "outputs": [
    {
     "name": "stdout",
     "output_type": "stream",
     "text": [
      "Running Batch MC with batch size 4 for 5 iterations\n"
     ]
    },
    {
     "name": "stderr",
     "output_type": "stream",
     "text": [
      "2021-12-07 15:26:37.433905: W tensorflow/core/grappler/optimizers/loop_optimizer.cc:907] Skipping loop optimization for Merge node with control input: assert_greater_equal/Assert/AssertGuard/branch_executed/_9\n",
      "2021-12-07 15:26:42.730334: W tensorflow/core/grappler/optimizers/loop_optimizer.cc:907] Skipping loop optimization for Merge node with control input: assert_greater_equal/Assert/AssertGuard/branch_executed/_9\n",
      "2021-12-07 15:26:48.717076: W tensorflow/core/grappler/optimizers/loop_optimizer.cc:907] Skipping loop optimization for Merge node with control input: assert_greater_equal/Assert/AssertGuard/branch_executed/_9\n",
      "2021-12-07 15:26:53.029898: W tensorflow/core/grappler/optimizers/loop_optimizer.cc:907] Skipping loop optimization for Merge node with control input: assert_greater_equal/Assert/AssertGuard/branch_executed/_9\n",
      "2021-12-07 15:26:57.986006: W tensorflow/core/grappler/optimizers/loop_optimizer.cc:907] Skipping loop optimization for Merge node with control input: assert_greater_equal/Assert/AssertGuard/branch_executed/_9\n"
     ]
    },
    {
     "name": "stdout",
     "output_type": "stream",
     "text": [
      "Optimization completed without errors\n",
      "Batch MC finished in 25.950942039489746s\n",
      "Running MO LP with batch size 4 for 5 iterations\n",
      "Optimization completed without errors\n",
      "MO LP finished in 29.904850006103516s\n",
      "Running Batch MC with batch size 4 for 5 iterations\n"
     ]
    },
    {
     "name": "stderr",
     "output_type": "stream",
     "text": [
      "2021-12-07 15:27:32.967659: W tensorflow/core/grappler/optimizers/loop_optimizer.cc:907] Skipping loop optimization for Merge node with control input: assert_greater_equal/Assert/AssertGuard/branch_executed/_9\n",
      "2021-12-07 15:27:36.421995: W tensorflow/core/grappler/optimizers/loop_optimizer.cc:907] Skipping loop optimization for Merge node with control input: assert_greater_equal/Assert/AssertGuard/branch_executed/_9\n",
      "2021-12-07 15:27:40.546156: W tensorflow/core/grappler/optimizers/loop_optimizer.cc:907] Skipping loop optimization for Merge node with control input: assert_greater_equal/Assert/AssertGuard/branch_executed/_9\n",
      "2021-12-07 15:27:45.175771: W tensorflow/core/grappler/optimizers/loop_optimizer.cc:907] Skipping loop optimization for Merge node with control input: assert_greater_equal/Assert/AssertGuard/branch_executed/_9\n",
      "2021-12-07 15:27:49.713198: W tensorflow/core/grappler/optimizers/loop_optimizer.cc:907] Skipping loop optimization for Merge node with control input: assert_greater_equal/Assert/AssertGuard/branch_executed/_9\n"
     ]
    },
    {
     "name": "stdout",
     "output_type": "stream",
     "text": [
      "Optimization completed without errors\n",
      "Batch MC finished in 20.992522716522217s\n",
      "Running MO LP with batch size 4 for 5 iterations\n",
      "Optimization completed without errors\n",
      "MO LP finished in 27.54644274711609s\n",
      "Running Batch MC with batch size 4 for 5 iterations\n"
     ]
    },
    {
     "name": "stderr",
     "output_type": "stream",
     "text": [
      "2021-12-07 15:28:21.665946: W tensorflow/core/grappler/optimizers/loop_optimizer.cc:907] Skipping loop optimization for Merge node with control input: assert_greater_equal/Assert/AssertGuard/branch_executed/_9\n",
      "2021-12-07 15:28:25.989675: W tensorflow/core/grappler/optimizers/loop_optimizer.cc:907] Skipping loop optimization for Merge node with control input: assert_greater_equal/Assert/AssertGuard/branch_executed/_9\n",
      "2021-12-07 15:28:30.819968: W tensorflow/core/grappler/optimizers/loop_optimizer.cc:907] Skipping loop optimization for Merge node with control input: assert_greater_equal/Assert/AssertGuard/branch_executed/_9\n",
      "2021-12-07 15:28:35.763870: W tensorflow/core/grappler/optimizers/loop_optimizer.cc:907] Skipping loop optimization for Merge node with control input: assert_greater_equal/Assert/AssertGuard/branch_executed/_9\n",
      "2021-12-07 15:28:40.251335: W tensorflow/core/grappler/optimizers/loop_optimizer.cc:907] Skipping loop optimization for Merge node with control input: assert_greater_equal/Assert/AssertGuard/branch_executed/_9\n"
     ]
    },
    {
     "name": "stdout",
     "output_type": "stream",
     "text": [
      "Optimization completed without errors\n",
      "Batch MC finished in 22.41537117958069s\n",
      "Running MO LP with batch size 4 for 5 iterations\n",
      "Optimization completed without errors\n",
      "MO LP finished in 28.251094102859497s\n",
      "Running Batch MC with batch size 4 for 5 iterations\n"
     ]
    },
    {
     "name": "stderr",
     "output_type": "stream",
     "text": [
      "2021-12-07 15:29:13.840421: W tensorflow/core/grappler/optimizers/loop_optimizer.cc:907] Skipping loop optimization for Merge node with control input: assert_greater_equal/Assert/AssertGuard/branch_executed/_9\n",
      "2021-12-07 15:29:17.405876: W tensorflow/core/grappler/optimizers/loop_optimizer.cc:907] Skipping loop optimization for Merge node with control input: assert_greater_equal/Assert/AssertGuard/branch_executed/_9\n",
      "2021-12-07 15:29:21.433430: W tensorflow/core/grappler/optimizers/loop_optimizer.cc:907] Skipping loop optimization for Merge node with control input: assert_greater_equal/Assert/AssertGuard/branch_executed/_9\n",
      "2021-12-07 15:29:25.835163: W tensorflow/core/grappler/optimizers/loop_optimizer.cc:907] Skipping loop optimization for Merge node with control input: assert_greater_equal/Assert/AssertGuard/branch_executed/_9\n",
      "2021-12-07 15:29:30.808088: W tensorflow/core/grappler/optimizers/loop_optimizer.cc:907] Skipping loop optimization for Merge node with control input: assert_greater_equal/Assert/AssertGuard/branch_executed/_9\n"
     ]
    },
    {
     "name": "stdout",
     "output_type": "stream",
     "text": [
      "Optimization completed without errors\n",
      "Batch MC finished in 21.85138463973999s\n",
      "Running MO LP with batch size 4 for 5 iterations\n",
      "Optimization completed without errors\n",
      "MO LP finished in 27.968389749526978s\n",
      "Running Batch MC with batch size 4 for 5 iterations\n"
     ]
    },
    {
     "name": "stderr",
     "output_type": "stream",
     "text": [
      "2021-12-07 15:30:03.092593: W tensorflow/core/grappler/optimizers/loop_optimizer.cc:907] Skipping loop optimization for Merge node with control input: assert_greater_equal/Assert/AssertGuard/branch_executed/_9\n",
      "2021-12-07 15:30:06.403115: W tensorflow/core/grappler/optimizers/loop_optimizer.cc:907] Skipping loop optimization for Merge node with control input: assert_greater_equal/Assert/AssertGuard/branch_executed/_9\n",
      "2021-12-07 15:30:10.787812: W tensorflow/core/grappler/optimizers/loop_optimizer.cc:907] Skipping loop optimization for Merge node with control input: assert_greater_equal/Assert/AssertGuard/branch_executed/_9\n",
      "2021-12-07 15:30:16.147441: W tensorflow/core/grappler/optimizers/loop_optimizer.cc:907] Skipping loop optimization for Merge node with control input: assert_greater_equal/Assert/AssertGuard/branch_executed/_9\n",
      "2021-12-07 15:30:21.759448: W tensorflow/core/grappler/optimizers/loop_optimizer.cc:907] Skipping loop optimization for Merge node with control input: assert_greater_equal/Assert/AssertGuard/branch_executed/_9\n"
     ]
    },
    {
     "name": "stdout",
     "output_type": "stream",
     "text": [
      "Optimization completed without errors\n",
      "Batch MC finished in 22.545790672302246s\n",
      "Running MO LP with batch size 4 for 5 iterations\n",
      "Optimization completed without errors\n",
      "MO LP finished in 27.45025372505188s\n",
      "Running Batch MC with batch size 4 for 5 iterations\n"
     ]
    },
    {
     "name": "stderr",
     "output_type": "stream",
     "text": [
      "2021-12-07 15:30:54.168813: W tensorflow/core/grappler/optimizers/loop_optimizer.cc:907] Skipping loop optimization for Merge node with control input: assert_greater_equal/Assert/AssertGuard/branch_executed/_9\n",
      "2021-12-07 15:31:00.052641: W tensorflow/core/grappler/optimizers/loop_optimizer.cc:907] Skipping loop optimization for Merge node with control input: assert_greater_equal/Assert/AssertGuard/branch_executed/_9\n",
      "2021-12-07 15:31:03.995868: W tensorflow/core/grappler/optimizers/loop_optimizer.cc:907] Skipping loop optimization for Merge node with control input: assert_greater_equal/Assert/AssertGuard/branch_executed/_9\n",
      "2021-12-07 15:31:07.843720: W tensorflow/core/grappler/optimizers/loop_optimizer.cc:907] Skipping loop optimization for Merge node with control input: assert_greater_equal/Assert/AssertGuard/branch_executed/_9\n",
      "2021-12-07 15:31:12.460582: W tensorflow/core/grappler/optimizers/loop_optimizer.cc:907] Skipping loop optimization for Merge node with control input: assert_greater_equal/Assert/AssertGuard/branch_executed/_9\n"
     ]
    },
    {
     "name": "stdout",
     "output_type": "stream",
     "text": [
      "Optimization completed without errors\n",
      "Batch MC finished in 22.750404834747314s\n",
      "Running MO LP with batch size 4 for 5 iterations\n",
      "Optimization completed without errors\n",
      "MO LP finished in 29.627190589904785s\n",
      "Running Batch MC with batch size 4 for 5 iterations\n"
     ]
    },
    {
     "name": "stderr",
     "output_type": "stream",
     "text": [
      "2021-12-07 15:31:48.018495: W tensorflow/core/grappler/optimizers/loop_optimizer.cc:907] Skipping loop optimization for Merge node with control input: assert_greater_equal/Assert/AssertGuard/branch_executed/_9\n",
      "2021-12-07 15:31:52.730251: W tensorflow/core/grappler/optimizers/loop_optimizer.cc:907] Skipping loop optimization for Merge node with control input: assert_greater_equal/Assert/AssertGuard/branch_executed/_9\n",
      "2021-12-07 15:31:56.716556: W tensorflow/core/grappler/optimizers/loop_optimizer.cc:907] Skipping loop optimization for Merge node with control input: assert_greater_equal/Assert/AssertGuard/branch_executed/_9\n",
      "2021-12-07 15:32:00.966381: W tensorflow/core/grappler/optimizers/loop_optimizer.cc:907] Skipping loop optimization for Merge node with control input: assert_greater_equal/Assert/AssertGuard/branch_executed/_9\n",
      "2021-12-07 15:32:06.163467: W tensorflow/core/grappler/optimizers/loop_optimizer.cc:907] Skipping loop optimization for Merge node with control input: assert_greater_equal/Assert/AssertGuard/branch_executed/_9\n"
     ]
    },
    {
     "name": "stdout",
     "output_type": "stream",
     "text": [
      "Optimization completed without errors\n",
      "Batch MC finished in 23.992653608322144s\n",
      "Running MO LP with batch size 4 for 5 iterations\n",
      "Optimization completed without errors\n",
      "MO LP finished in 28.365134954452515s\n",
      "Running Batch MC with batch size 4 for 5 iterations\n"
     ]
    },
    {
     "name": "stderr",
     "output_type": "stream",
     "text": [
      "2021-12-07 15:32:39.752023: W tensorflow/core/grappler/optimizers/loop_optimizer.cc:907] Skipping loop optimization for Merge node with control input: assert_greater_equal/Assert/AssertGuard/branch_executed/_9\n",
      "2021-12-07 15:32:42.915671: W tensorflow/core/grappler/optimizers/loop_optimizer.cc:907] Skipping loop optimization for Merge node with control input: assert_greater_equal/Assert/AssertGuard/branch_executed/_9\n",
      "2021-12-07 15:32:46.677471: W tensorflow/core/grappler/optimizers/loop_optimizer.cc:907] Skipping loop optimization for Merge node with control input: assert_greater_equal/Assert/AssertGuard/branch_executed/_9\n",
      "2021-12-07 15:32:51.124284: W tensorflow/core/grappler/optimizers/loop_optimizer.cc:907] Skipping loop optimization for Merge node with control input: assert_greater_equal/Assert/AssertGuard/branch_executed/_9\n",
      "2021-12-07 15:32:55.214015: W tensorflow/core/grappler/optimizers/loop_optimizer.cc:907] Skipping loop optimization for Merge node with control input: assert_greater_equal/Assert/AssertGuard/branch_executed/_9\n"
     ]
    },
    {
     "name": "stdout",
     "output_type": "stream",
     "text": [
      "Optimization completed without errors\n",
      "Batch MC finished in 19.684759378433228s\n",
      "Running MO LP with batch size 4 for 5 iterations\n",
      "Optimization completed without errors\n",
      "MO LP finished in 27.98803997039795s\n",
      "Running Batch MC with batch size 4 for 5 iterations\n"
     ]
    },
    {
     "name": "stderr",
     "output_type": "stream",
     "text": [
      "2021-12-07 15:33:27.742129: W tensorflow/core/grappler/optimizers/loop_optimizer.cc:907] Skipping loop optimization for Merge node with control input: assert_greater_equal/Assert/AssertGuard/branch_executed/_9\n",
      "2021-12-07 15:33:31.489492: W tensorflow/core/grappler/optimizers/loop_optimizer.cc:907] Skipping loop optimization for Merge node with control input: assert_greater_equal/Assert/AssertGuard/branch_executed/_9\n",
      "2021-12-07 15:33:36.185851: W tensorflow/core/grappler/optimizers/loop_optimizer.cc:907] Skipping loop optimization for Merge node with control input: assert_greater_equal/Assert/AssertGuard/branch_executed/_9\n",
      "2021-12-07 15:33:40.485401: W tensorflow/core/grappler/optimizers/loop_optimizer.cc:907] Skipping loop optimization for Merge node with control input: assert_greater_equal/Assert/AssertGuard/branch_executed/_9\n",
      "2021-12-07 15:33:45.280115: W tensorflow/core/grappler/optimizers/loop_optimizer.cc:907] Skipping loop optimization for Merge node with control input: assert_greater_equal/Assert/AssertGuard/branch_executed/_9\n"
     ]
    },
    {
     "name": "stdout",
     "output_type": "stream",
     "text": [
      "Optimization completed without errors\n",
      "Batch MC finished in 21.327429056167603s\n",
      "Running MO LP with batch size 4 for 5 iterations\n",
      "Optimization completed without errors\n",
      "MO LP finished in 28.66587519645691s\n",
      "Running Batch MC with batch size 4 for 5 iterations\n"
     ]
    },
    {
     "name": "stderr",
     "output_type": "stream",
     "text": [
      "2021-12-07 15:34:18.926345: W tensorflow/core/grappler/optimizers/loop_optimizer.cc:907] Skipping loop optimization for Merge node with control input: assert_greater_equal/Assert/AssertGuard/branch_executed/_9\n",
      "2021-12-07 15:34:23.412318: W tensorflow/core/grappler/optimizers/loop_optimizer.cc:907] Skipping loop optimization for Merge node with control input: assert_greater_equal/Assert/AssertGuard/branch_executed/_9\n",
      "2021-12-07 15:34:27.004301: W tensorflow/core/grappler/optimizers/loop_optimizer.cc:907] Skipping loop optimization for Merge node with control input: assert_greater_equal/Assert/AssertGuard/branch_executed/_9\n",
      "2021-12-07 15:34:30.872139: W tensorflow/core/grappler/optimizers/loop_optimizer.cc:907] Skipping loop optimization for Merge node with control input: assert_greater_equal/Assert/AssertGuard/branch_executed/_9\n",
      "2021-12-07 15:34:35.701104: W tensorflow/core/grappler/optimizers/loop_optimizer.cc:907] Skipping loop optimization for Merge node with control input: assert_greater_equal/Assert/AssertGuard/branch_executed/_9\n"
     ]
    },
    {
     "name": "stdout",
     "output_type": "stream",
     "text": [
      "Optimization completed without errors\n",
      "Batch MC finished in 21.319744348526s\n",
      "Running MO LP with batch size 4 for 5 iterations\n",
      "Optimization completed without errors\n",
      "MO LP finished in 27.889448881149292s\n"
     ]
    }
   ],
   "source": [
    "from true_pf.generate_true_pareto_fronts import GARDNER_2D_INPUT_FILENAME\n",
    "true_pf = read_true_pf(os.path.join(\"true_pf\", GARDNER_2D_INPUT_FILENAME))\n",
    "\n",
    "batch_mc_hv_regret = []\n",
    "mo_lp_hv_regret = []\n",
    "for _ in range(n_experiments):\n",
    "    batch_mc_observations, mo_lp_observations = run_experiment(f,\n",
    "                                                                n_obj,\n",
    "                                                                search_space,\n",
    "                                                                num_initial_points,\n",
    "                                                                num_steps,\n",
    "                                                                num_query_points)\n",
    "\n",
    "    batch_mc_hv_regret.append(get_hv_regret(true_pf, batch_mc_observations, num_initial_points))\n",
    "    mo_lp_hv_regret.append(get_hv_regret(true_pf, mo_lp_observations, num_initial_points))"
   ]
  },
  {
   "cell_type": "code",
   "execution_count": 27,
   "metadata": {},
   "outputs": [],
   "source": [
    "batch_mc_hv_regret = np.array(batch_mc_hv_regret)\n",
    "mo_lp_hv_regret = np.array(mo_lp_hv_regret)"
   ]
  },
  {
   "cell_type": "code",
   "execution_count": 28,
   "metadata": {},
   "outputs": [
    {
     "data": {
      "image/png": "[encoded data removed]",
      "text/plain": [
       "<Figure size 432x288 with 1 Axes>"
      ]
     },
     "metadata": {
      "needs_background": "light"
     },
     "output_type": "display_data"
    }
   ],
   "source": [
    "x = range(num_steps * num_query_points + 1)\n",
    "\n",
    "plt.fill_between(x, np.quantile(batch_mc_hv_regret, q=0.25, axis=0), np.quantile(batch_mc_hv_regret, q=0.75, axis=0), facecolor='r', alpha=0.25)\n",
    "plt.fill_between(x, np.quantile(mo_lp_hv_regret, q=0.25, axis=0), np.quantile(mo_lp_hv_regret, q=0.75, axis=0), facecolor='g', alpha=0.25)\n",
    "plt.plot(x, np.mean(batch_mc_hv_regret, axis=0), c='r', label='Batch MC')\n",
    "plt.plot(x, np.mean(mo_lp_hv_regret, axis=0), c='g', label='MO LP')\n",
    "plt.title(f\"Simple 1d input, Hypervolume error, {num_steps} iterations of batch size {num_query_points}\")\n",
    "plt.legend()\n",
    "plt.show()"
   ]
  },
  {
   "cell_type": "code",
   "execution_count": null,
   "metadata": {},
   "outputs": [],
   "source": []
  }
 ],
 "metadata": {
  "interpreter": {
   "hash": "1c3dbd3a67db16cf835b28456000e09a35242e4f5b5ef244e9340c5632f77bd6"
  },
  "kernelspec": {
   "display_name": "Python 3.8.10 64-bit ('.venv': venv)",
   "language": "python",
   "name": "python3"
  },
  "language_info": {
   "codemirror_mode": {
    "name": "ipython",
    "version": 3
   },
   "file_extension": ".py",
   "mimetype": "text/x-python",
   "name": "python",
   "nbconvert_exporter": "python",
   "pygments_lexer": "ipython3",
   "version": "3.8.10"
  },
  "orig_nbformat": 4
 },
 "nbformat": 4,
 "nbformat_minor": 2
}
