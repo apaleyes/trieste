{
 "cells": [
  {
   "cell_type": "code",
   "execution_count": 1,
   "id": "674f5574",
   "metadata": {},
   "outputs": [],
   "source": [
    "%load_ext autoreload\n",
    "%autoreload 2\n",
    "%matplotlib inline"
   ]
  },
  {
   "cell_type": "code",
   "execution_count": 2,
   "id": "98a3444d",
   "metadata": {},
   "outputs": [
    {
     "name": "stderr",
     "output_type": "stream",
     "text": [
      "2021-12-02 11:45:01.389846: W tensorflow/stream_executor/platform/default/dso_loader.cc:64] Could not load dynamic library 'libcudart.so.11.0'; dlerror: libcudart.so.11.0: cannot open shared object file: No such file or directory\n",
      "2021-12-02 11:45:01.389915: I tensorflow/stream_executor/cuda/cudart_stub.cc:29] Ignore above cudart dlerror if you do not have a GPU set up on your machine.\n",
      "2021-12-02 11:45:03.770393: W tensorflow/stream_executor/platform/default/dso_loader.cc:64] Could not load dynamic library 'libcuda.so.1'; dlerror: libcuda.so.1: cannot open shared object file: No such file or directory\n",
      "2021-12-02 11:45:03.770414: W tensorflow/stream_executor/cuda/cuda_driver.cc:269] failed call to cuInit: UNKNOWN ERROR (303)\n",
      "2021-12-02 11:45:03.770429: I tensorflow/stream_executor/cuda/cuda_diagnostics.cc:156] kernel driver does not appear to be running on this host (andreip-lptp): /proc/driver/nvidia/version does not exist\n",
      "2021-12-02 11:45:03.770978: I tensorflow/core/platform/cpu_feature_guard.cc:151] This TensorFlow binary is optimized with oneAPI Deep Neural Network Library (oneDNN) to use the following CPU instructions in performance-critical operations:  AVX2 FMA\n",
      "To enable them in other operations, rebuild TensorFlow with the appropriate compiler flags.\n"
     ]
    }
   ],
   "source": [
    "import trieste\n",
    "import gpflow\n",
    "import tensorflow as tf\n",
    "\n",
    "import numpy as np\n",
    "import matplotlib.pyplot as plt\n",
    "import math\n",
    "from util import plotting"
   ]
  },
  {
   "cell_type": "code",
   "execution_count": 3,
   "id": "6637de51",
   "metadata": {},
   "outputs": [],
   "source": [
    "from trieste.objectives.multi_objectives import VLMOP2\n",
    "from trieste.objectives.utils import mk_observer\n",
    "from trieste.observer import OBJECTIVE\n",
    "from trieste.data import Dataset\n",
    "from trieste.models.gpflow.models import GPRStack\n",
    "from trieste.models.gpflow.models import GaussianProcessRegression\n",
    "\n",
    "from trieste.acquisition import BatchMonteCarloExpectedHypervolumeImprovement\n",
    "from trieste.acquisition.rule import EfficientGlobalOptimization\n",
    "from trieste.bayesian_optimizer import BayesianOptimizer"
   ]
  },
  {
   "cell_type": "code",
   "execution_count": 4,
   "id": "10b6cfda",
   "metadata": {},
   "outputs": [],
   "source": [
    "from trieste.acquisition.multi_objective.pareto import Pareto, get_reference_point"
   ]
  },
  {
   "cell_type": "markdown",
   "id": "6446d9ec",
   "metadata": {},
   "source": [
    "## 1d case"
   ]
  },
  {
   "cell_type": "code",
   "execution_count": 5,
   "id": "6832e9dc",
   "metadata": {},
   "outputs": [],
   "source": [
    "search_space = trieste.space.Box([0], [2*math.pi])\n",
    "\n",
    "def f1(x):\n",
    "    return tf.cos(2 * x) + tf.sin(x)\n",
    "\n",
    "def f2(x):\n",
    "    return 0.2 * (tf.cos(x) - tf.sin(x)) + 0.3\n",
    "\n",
    "def f(x):\n",
    "    return tf.concat([f1(x), f2(x)], axis=-1)"
   ]
  },
  {
   "cell_type": "code",
   "execution_count": 6,
   "id": "c1e501f0",
   "metadata": {},
   "outputs": [
    {
     "data": {
      "image/png": "[encoded data removed]",
      "text/plain": [
       "<Figure size 432x288 with 1 Axes>"
      ]
     },
     "metadata": {
      "needs_background": "light"
     },
     "output_type": "display_data"
    }
   ],
   "source": [
    "x_plot = np.linspace(start=search_space.lower[0], stop=search_space.upper[0], num=100)\n",
    "\n",
    "plt.plot(x_plot, f1(x_plot), label=\"f1\");\n",
    "plt.plot(x_plot, f2(x_plot), label=\"f2\");\n",
    "plt.legend();\n",
    "plt.title(\"Actual functions\");\n",
    "plt.show();"
   ]
  },
  {
   "cell_type": "code",
   "execution_count": 7,
   "id": "a297ec5e",
   "metadata": {},
   "outputs": [],
   "source": [
    "def build_stacked_independent_objectives_model(data: Dataset):\n",
    "    gprs = []\n",
    "    for idx in range(2):\n",
    "        single_obj_data = Dataset(\n",
    "            data.query_points, tf.gather(data.observations, [idx], axis=1)\n",
    "        )\n",
    "        variance = tf.math.reduce_variance(single_obj_data.observations)\n",
    "        kernel = gpflow.kernels.Matern52(variance, tf.constant(0.2, tf.float64))\n",
    "        gpr = gpflow.models.GPR(single_obj_data.astuple(), kernel, noise_variance=1e-5)\n",
    "        gpflow.utilities.set_trainable(gpr.likelihood, False)\n",
    "        gprs.append((GaussianProcessRegression(gpr), 1))\n",
    "\n",
    "    return GPRStack(*gprs)"
   ]
  },
  {
   "cell_type": "code",
   "execution_count": 8,
   "id": "65bc11d8",
   "metadata": {},
   "outputs": [],
   "source": [
    "observer = mk_observer(f, OBJECTIVE)"
   ]
  },
  {
   "cell_type": "code",
   "execution_count": 9,
   "id": "41199527",
   "metadata": {},
   "outputs": [],
   "source": [
    "num_initial_points = 5\n",
    "initial_query_points = search_space.sample(num_initial_points)\n",
    "initial_data = observer(initial_query_points)"
   ]
  },
  {
   "cell_type": "code",
   "execution_count": 10,
   "id": "9f0373ca",
   "metadata": {},
   "outputs": [
    {
     "name": "stderr",
     "output_type": "stream",
     "text": [
      "2021-12-02 11:45:04.270043: W tensorflow/python/util/util.cc:368] Sets are not currently considered sequences, but this may change in the future, so consider avoiding using them.\n"
     ]
    }
   ],
   "source": [
    "model = build_stacked_independent_objectives_model(initial_data[OBJECTIVE])"
   ]
  },
  {
   "cell_type": "code",
   "execution_count": 11,
   "id": "c7b51756",
   "metadata": {},
   "outputs": [],
   "source": [
    "num_steps = 3\n",
    "num_query_points=4\n",
    "\n",
    "acq_function = BatchMonteCarloExpectedHypervolumeImprovement(sample_size=250).using(OBJECTIVE)\n",
    "acq_rule = EfficientGlobalOptimization(acq_function, num_query_points=num_query_points)"
   ]
  },
  {
   "cell_type": "code",
   "execution_count": 12,
   "id": "80c6f97f",
   "metadata": {},
   "outputs": [
    {
     "name": "stderr",
     "output_type": "stream",
     "text": [
      "2021-12-02 11:45:08.982861: W tensorflow/core/grappler/optimizers/loop_optimizer.cc:907] Skipping loop optimization for Merge node with control input: assert_greater_equal/Assert/AssertGuard/branch_executed/_9\n",
      "2021-12-02 11:45:12.129817: W tensorflow/core/grappler/optimizers/loop_optimizer.cc:907] Skipping loop optimization for Merge node with control input: assert_greater_equal/Assert/AssertGuard/branch_executed/_9\n",
      "2021-12-02 11:45:15.692741: W tensorflow/core/grappler/optimizers/loop_optimizer.cc:907] Skipping loop optimization for Merge node with control input: assert_greater_equal/Assert/AssertGuard/branch_executed/_9\n"
     ]
    },
    {
     "name": "stdout",
     "output_type": "stream",
     "text": [
      "Optimization completed without errors\n"
     ]
    }
   ],
   "source": [
    "result = BayesianOptimizer(observer, search_space).optimize(num_steps, initial_data, {OBJECTIVE: model}, acq_rule)\n",
    "dataset = result.try_get_final_datasets()[OBJECTIVE]"
   ]
  },
  {
   "cell_type": "code",
   "execution_count": 13,
   "id": "36fe8ab3",
   "metadata": {},
   "outputs": [],
   "source": [
    "models = result.try_get_final_models()[OBJECTIVE]._models"
   ]
  },
  {
   "cell_type": "code",
   "execution_count": 14,
   "id": "9b6d2191",
   "metadata": {},
   "outputs": [
    {
     "data": {
      "image/png": "[encoded data removed]",
      "text/plain": [
       "<Figure size 432x288 with 1 Axes>"
      ]
     },
     "metadata": {
      "needs_background": "light"
     },
     "output_type": "display_data"
    },
    {
     "data": {
      "image/png": "[encoded data removed]",
      "text/plain": [
       "<Figure size 432x288 with 1 Axes>"
      ]
     },
     "metadata": {
      "needs_background": "light"
     },
     "output_type": "display_data"
    }
   ],
   "source": [
    "all_query_points = dataset.query_points\n",
    "f1_model_values, _ = models[0].predict(all_query_points)\n",
    "f2_model_values, _ = models[1].predict(all_query_points)\n",
    "\n",
    "points_in_objective_space = tf.concat([f1_model_values, f2_model_values], axis=1)\n",
    "plotting.plot_mobo_points_in_obj_space(points_in_objective_space, num_init=num_initial_points)\n",
    "plt.xlabel(\"f1\");\n",
    "plt.ylabel(\"f2\");\n",
    "plt.title(\"Discovered Pareto front\");\n",
    "plt.show();\n",
    "\n",
    "\n",
    "\n",
    "points_in_objective_space = tf.stack([f1(x_plot), f2(x_plot)], axis=-1)\n",
    "plotting.plot_mobo_points_in_obj_space(points_in_objective_space, num_init=0)\n",
    "plt.xlabel(\"f1\");\n",
    "plt.ylabel(\"f2\");\n",
    "plt.title(\"True Pareto front\");\n",
    "plt.show();"
   ]
  },
  {
   "cell_type": "code",
   "execution_count": 15,
   "id": "da1c4ad7",
   "metadata": {},
   "outputs": [],
   "source": [
    "from trieste.acquisition.function.local_penalization import MOLocalPenalizationAcquisitionFunction"
   ]
  },
  {
   "cell_type": "code",
   "execution_count": 16,
   "id": "851dbd19",
   "metadata": {},
   "outputs": [],
   "source": [
    "acq_function = MOLocalPenalizationAcquisitionFunction().using(OBJECTIVE)\n",
    "acq_rule = EfficientGlobalOptimization(acq_function, num_query_points=num_query_points)\n",
    "model = build_stacked_independent_objectives_model(initial_data[OBJECTIVE])"
   ]
  },
  {
   "cell_type": "code",
   "execution_count": 17,
   "id": "dfe86378",
   "metadata": {},
   "outputs": [
    {
     "name": "stdout",
     "output_type": "stream",
     "text": [
      "WARNING:tensorflow:5 out of the last 5 calls to <function MOLocalPenalizationAcquisitionFunction._update_penalization.<locals>.penalized_acquisition at 0x7f0ae7619b00> triggered tf.function retracing. Tracing is expensive and the excessive number of tracings could be due to (1) creating @tf.function repeatedly in a loop, (2) passing tensors with different shapes, (3) passing Python objects instead of tensors. For (1), please define your @tf.function outside of the loop. For (2), @tf.function has experimental_relax_shapes=True option that relaxes argument shapes that can avoid unnecessary retracing. For (3), please refer to https://www.tensorflow.org/guide/function#controlling_retracing and https://www.tensorflow.org/api_docs/python/tf/function for  more details.\n",
      "WARNING:tensorflow:6 out of the last 6 calls to <function MOLocalPenalizationAcquisitionFunction._update_penalization.<locals>.penalized_acquisition at 0x7f0ae7619b00> triggered tf.function retracing. Tracing is expensive and the excessive number of tracings could be due to (1) creating @tf.function repeatedly in a loop, (2) passing tensors with different shapes, (3) passing Python objects instead of tensors. For (1), please define your @tf.function outside of the loop. For (2), @tf.function has experimental_relax_shapes=True option that relaxes argument shapes that can avoid unnecessary retracing. For (3), please refer to https://www.tensorflow.org/guide/function#controlling_retracing and https://www.tensorflow.org/api_docs/python/tf/function for  more details.\n",
      "WARNING:tensorflow:5 out of the last 31 calls to <function Scipy.eval_func.<locals>._tf_eval at 0x7f0afc497f80> triggered tf.function retracing. Tracing is expensive and the excessive number of tracings could be due to (1) creating @tf.function repeatedly in a loop, (2) passing tensors with different shapes, (3) passing Python objects instead of tensors. For (1), please define your @tf.function outside of the loop. For (2), @tf.function has experimental_relax_shapes=True option that relaxes argument shapes that can avoid unnecessary retracing. For (3), please refer to https://www.tensorflow.org/guide/function#controlling_retracing and https://www.tensorflow.org/api_docs/python/tf/function for  more details.\n",
      "WARNING:tensorflow:5 out of the last 13 calls to <function Scipy.eval_func.<locals>._tf_eval at 0x7f0afc361d40> triggered tf.function retracing. Tracing is expensive and the excessive number of tracings could be due to (1) creating @tf.function repeatedly in a loop, (2) passing tensors with different shapes, (3) passing Python objects instead of tensors. For (1), please define your @tf.function outside of the loop. For (2), @tf.function has experimental_relax_shapes=True option that relaxes argument shapes that can avoid unnecessary retracing. For (3), please refer to https://www.tensorflow.org/guide/function#controlling_retracing and https://www.tensorflow.org/api_docs/python/tf/function for  more details.\n",
      "Optimization completed without errors\n"
     ]
    }
   ],
   "source": [
    "result = BayesianOptimizer(observer, search_space).optimize(num_steps, initial_data, {OBJECTIVE: model}, acq_rule)\n",
    "dataset = result.try_get_final_datasets()[OBJECTIVE]"
   ]
  },
  {
   "cell_type": "code",
   "execution_count": 18,
   "id": "54b09214",
   "metadata": {},
   "outputs": [
    {
     "data": {
      "image/png": "[encoded data removed]",
      "text/plain": [
       "<Figure size 432x288 with 1 Axes>"
      ]
     },
     "metadata": {
      "needs_background": "light"
     },
     "output_type": "display_data"
    },
    {
     "data": {
      "image/png": "[encoded data removed]",
      "text/plain": [
       "<Figure size 432x288 with 1 Axes>"
      ]
     },
     "metadata": {
      "needs_background": "light"
     },
     "output_type": "display_data"
    }
   ],
   "source": [
    "models = result.try_get_final_models()[OBJECTIVE]._models\n",
    "\n",
    "all_query_points = dataset.query_points\n",
    "f1_model_values, _ = models[0].predict(all_query_points)\n",
    "f2_model_values, _ = models[1].predict(all_query_points)\n",
    "\n",
    "points_in_objective_space = tf.concat([f1_model_values, f2_model_values], axis=1)\n",
    "plotting.plot_mobo_points_in_obj_space(points_in_objective_space, num_init=num_initial_points)\n",
    "plt.xlabel(\"f1\");\n",
    "plt.ylabel(\"f2\");\n",
    "plt.title(\"Discovered Pareto front\");\n",
    "plt.show();\n",
    "\n",
    "\n",
    "\n",
    "points_in_objective_space = tf.stack([f1(x_plot), f2(x_plot)], axis=-1)\n",
    "plotting.plot_mobo_points_in_obj_space(points_in_objective_space, num_init=0)\n",
    "plt.xlabel(\"f1\");\n",
    "plt.ylabel(\"f2\");\n",
    "plt.title(\"True Pareto front\");\n",
    "plt.show();"
   ]
  },
  {
   "cell_type": "markdown",
   "id": "46dc50cc",
   "metadata": {},
   "source": [
    "## 2d case"
   ]
  },
  {
   "cell_type": "code",
   "execution_count": 19,
   "id": "50140eb4",
   "metadata": {},
   "outputs": [],
   "source": [
    "search_space = trieste.space.Box([0, 0], [2*math.pi, 2*math.pi])\n",
    "\n",
    "def f1(input_data):\n",
    "    x, y = input_data[..., -2], input_data[..., -1]\n",
    "    z = tf.cos(2.0 * x) * tf.cos(y) + tf.sin(x)\n",
    "    return z[:, None]\n",
    "\n",
    "def f2(input_data):\n",
    "    x, y = input_data[:, -2], input_data[:, -1]\n",
    "    # changes are made so that the function is between 0 and 1\n",
    "    z = 1.0 - (tf.cos(x) * tf.cos(y) - tf.sin(x) * tf.sin(y) + 1.0) / 2.0\n",
    "    return z[:, None]\n",
    "\n",
    "def f(x):\n",
    "    return tf.concat([f1(x), f2(x)], axis=-1)\n",
    "\n",
    "observer = mk_observer(f, OBJECTIVE)"
   ]
  },
  {
   "cell_type": "code",
   "execution_count": 20,
   "id": "371a586c",
   "metadata": {},
   "outputs": [],
   "source": [
    "num_initial_points = 5\n",
    "initial_query_points = search_space.sample(num_initial_points)\n",
    "initial_data = observer(initial_query_points)"
   ]
  },
  {
   "cell_type": "code",
   "execution_count": 21,
   "id": "fec69184",
   "metadata": {},
   "outputs": [
    {
     "name": "stderr",
     "output_type": "stream",
     "text": [
      "2021-12-02 11:46:11.364124: W tensorflow/core/grappler/optimizers/loop_optimizer.cc:907] Skipping loop optimization for Merge node with control input: assert_greater_equal/Assert/AssertGuard/branch_executed/_9\n",
      "2021-12-02 11:46:14.597702: W tensorflow/core/grappler/optimizers/loop_optimizer.cc:907] Skipping loop optimization for Merge node with control input: assert_greater_equal/Assert/AssertGuard/branch_executed/_9\n",
      "2021-12-02 11:46:19.092220: W tensorflow/core/grappler/optimizers/loop_optimizer.cc:907] Skipping loop optimization for Merge node with control input: assert_greater_equal/Assert/AssertGuard/branch_executed/_9\n",
      "2021-12-02 11:46:22.489164: W tensorflow/core/grappler/optimizers/loop_optimizer.cc:907] Skipping loop optimization for Merge node with control input: assert_greater_equal/Assert/AssertGuard/branch_executed/_9\n",
      "2021-12-02 11:46:26.359437: W tensorflow/core/grappler/optimizers/loop_optimizer.cc:907] Skipping loop optimization for Merge node with control input: assert_greater_equal/Assert/AssertGuard/branch_executed/_9\n",
      "2021-12-02 11:46:30.524780: W tensorflow/core/grappler/optimizers/loop_optimizer.cc:907] Skipping loop optimization for Merge node with control input: assert_greater_equal/Assert/AssertGuard/branch_executed/_9\n",
      "2021-12-02 11:46:35.475349: W tensorflow/core/grappler/optimizers/loop_optimizer.cc:907] Skipping loop optimization for Merge node with control input: assert_greater_equal/Assert/AssertGuard/branch_executed/_9\n",
      "2021-12-02 11:46:39.669508: W tensorflow/core/grappler/optimizers/loop_optimizer.cc:907] Skipping loop optimization for Merge node with control input: assert_greater_equal/Assert/AssertGuard/branch_executed/_9\n",
      "2021-12-02 11:46:44.219957: W tensorflow/core/grappler/optimizers/loop_optimizer.cc:907] Skipping loop optimization for Merge node with control input: assert_greater_equal/Assert/AssertGuard/branch_executed/_9\n",
      "2021-12-02 11:46:46.189401: W tensorflow/core/framework/cpu_allocator_impl.cc:82] Allocation of 960000000 exceeds 10% of free system memory.\n",
      "2021-12-02 11:46:46.565056: W tensorflow/core/framework/cpu_allocator_impl.cc:82] Allocation of 960000000 exceeds 10% of free system memory.\n",
      "2021-12-02 11:46:46.816438: W tensorflow/core/framework/cpu_allocator_impl.cc:82] Allocation of 960000000 exceeds 10% of free system memory.\n",
      "2021-12-02 11:46:49.595655: W tensorflow/core/grappler/optimizers/loop_optimizer.cc:907] Skipping loop optimization for Merge node with control input: assert_greater_equal/Assert/AssertGuard/branch_executed/_9\n"
     ]
    },
    {
     "name": "stdout",
     "output_type": "stream",
     "text": [
      "Optimization completed without errors\n"
     ]
    }
   ],
   "source": [
    "model = build_stacked_independent_objectives_model(initial_data[OBJECTIVE])\n",
    "\n",
    "num_steps = 10\n",
    "num_query_points=4\n",
    "\n",
    "acq_function = BatchMonteCarloExpectedHypervolumeImprovement(sample_size=250).using(OBJECTIVE)\n",
    "acq_rule = EfficientGlobalOptimization(acq_function, num_query_points=num_query_points)\n",
    "\n",
    "result = BayesianOptimizer(observer, search_space).optimize(num_steps, initial_data, {OBJECTIVE: model}, acq_rule)"
   ]
  },
  {
   "cell_type": "code",
   "execution_count": 22,
   "id": "aa4ae803",
   "metadata": {},
   "outputs": [],
   "source": [
    "dataset = result.try_get_final_datasets()[OBJECTIVE]\n",
    "models = result.try_get_final_models()[OBJECTIVE]._models"
   ]
  },
  {
   "cell_type": "code",
   "execution_count": 23,
   "id": "7704345c",
   "metadata": {},
   "outputs": [
    {
     "data": {
      "image/png": "[encoded data removed]",
      "text/plain": [
       "<Figure size 432x288 with 1 Axes>"
      ]
     },
     "metadata": {
      "needs_background": "light"
     },
     "output_type": "display_data"
    },
    {
     "data": {
      "image/png": "[encoded data removed]",
      "text/plain": [
       "<Figure size 432x288 with 1 Axes>"
      ]
     },
     "metadata": {
      "needs_background": "light"
     },
     "output_type": "display_data"
    }
   ],
   "source": [
    "all_query_points = dataset.query_points\n",
    "f1_model_values, _ = models[0].predict(all_query_points)\n",
    "f2_model_values, _ = models[1].predict(all_query_points)\n",
    "\n",
    "points_in_objective_space = tf.concat([f1_model_values, f2_model_values], axis=1)\n",
    "plotting.plot_mobo_points_in_obj_space(points_in_objective_space, num_init=num_initial_points)\n",
    "plt.xlabel(\"f1\");\n",
    "plt.ylabel(\"f2\");\n",
    "plt.title(\"Discovered Pareto front\");\n",
    "plt.show();\n",
    "\n",
    "grid, xx, yy = plotting.create_grid(search_space.lower, search_space.upper, grid_density=20)\n",
    "\n",
    "points_in_objective_space = f(grid)\n",
    "plotting.plot_mobo_points_in_obj_space(points_in_objective_space, num_init=0)\n",
    "plt.xlabel(\"f1\");\n",
    "plt.ylabel(\"f2\");\n",
    "plt.title(\"True Pareto front\");\n",
    "plt.show();"
   ]
  },
  {
   "cell_type": "code",
   "execution_count": 24,
   "id": "d71dd0d9",
   "metadata": {},
   "outputs": [
    {
     "name": "stdout",
     "output_type": "stream",
     "text": [
      "Optimization completed without errors\n"
     ]
    }
   ],
   "source": [
    "acq_function = MOLocalPenalizationAcquisitionFunction().using(OBJECTIVE)\n",
    "acq_rule = EfficientGlobalOptimization(acq_function, num_query_points=num_query_points)\n",
    "model = build_stacked_independent_objectives_model(initial_data[OBJECTIVE])\n",
    "\n",
    "result = BayesianOptimizer(observer, search_space).optimize(num_steps, initial_data, {OBJECTIVE: model}, acq_rule)"
   ]
  },
  {
   "cell_type": "code",
   "execution_count": 25,
   "id": "4284db56",
   "metadata": {},
   "outputs": [],
   "source": [
    "dataset = result.try_get_final_datasets()[OBJECTIVE]\n",
    "models = result.try_get_final_models()[OBJECTIVE]._models"
   ]
  },
  {
   "cell_type": "code",
   "execution_count": 26,
   "id": "497ef5fa",
   "metadata": {},
   "outputs": [
    {
     "data": {
      "image/png": "[encoded data removed]",
      "text/plain": [
       "<Figure size 432x288 with 1 Axes>"
      ]
     },
     "metadata": {
      "needs_background": "light"
     },
     "output_type": "display_data"
    },
    {
     "data": {
      "image/png": "[encoded data removed]",
      "text/plain": [
       "<Figure size 432x288 with 1 Axes>"
      ]
     },
     "metadata": {
      "needs_background": "light"
     },
     "output_type": "display_data"
    }
   ],
   "source": [
    "all_query_points = dataset.query_points\n",
    "f1_model_values, _ = models[0].predict(all_query_points)\n",
    "f2_model_values, _ = models[1].predict(all_query_points)\n",
    "\n",
    "points_in_objective_space = tf.concat([f1_model_values, f2_model_values], axis=1)\n",
    "plotting.plot_mobo_points_in_obj_space(points_in_objective_space, num_init=num_initial_points)\n",
    "plt.xlabel(\"f1\");\n",
    "plt.ylabel(\"f2\");\n",
    "plt.title(\"Discovered Pareto front\");\n",
    "plt.show();\n",
    "\n",
    "grid, xx, yy = plotting.create_grid(search_space.lower, search_space.upper, grid_density=20)\n",
    "\n",
    "points_in_objective_space = f(grid)\n",
    "plotting.plot_mobo_points_in_obj_space(points_in_objective_space, num_init=0)\n",
    "plt.xlabel(\"f1\");\n",
    "plt.ylabel(\"f2\");\n",
    "plt.title(\"True Pareto front\");\n",
    "plt.show();"
   ]
  },
  {
   "cell_type": "markdown",
   "id": "55ba712a",
   "metadata": {},
   "source": [
    "## Trieste integ tests"
   ]
  },
  {
   "cell_type": "code",
   "execution_count": 27,
   "id": "a17d0851",
   "metadata": {},
   "outputs": [],
   "source": [
    "def test_multi_objective_optimizer_finds_pareto_front_of_the_VLMOP2_function(\n",
    "    num_steps, acquisition_rule, convergence_threshold):\n",
    "    tf.random.set_seed(0)\n",
    "    search_space = Box([-2, -2], [2, 2])\n",
    "\n",
    "    def build_stacked_independent_objectives_model(data: Dataset) -> ModelStack:\n",
    "        gprs = []\n",
    "        for idx in range(2):\n",
    "            single_obj_data = Dataset(\n",
    "                data.query_points, tf.gather(data.observations, [idx], axis=1)\n",
    "            )\n",
    "            variance = tf.math.reduce_variance(single_obj_data.observations)\n",
    "            kernel = gpflow.kernels.Matern52(variance, tf.constant([0.2, 0.2], tf.float64))\n",
    "            gpr = gpflow.models.GPR(single_obj_data.astuple(), kernel, noise_variance=1e-5)\n",
    "            gpflow.utilities.set_trainable(gpr.likelihood, False)\n",
    "            gprs.append((GaussianProcessRegression(gpr), 1))\n",
    "\n",
    "        return ModelStack(*gprs)\n",
    "\n",
    "    observer = mk_observer(VLMOP2().objective(), OBJECTIVE)\n",
    "\n",
    "    initial_query_points = search_space.sample(10)\n",
    "    initial_data = observer(initial_query_points)\n",
    "\n",
    "    model = build_stacked_independent_objectives_model(initial_data[OBJECTIVE])\n",
    "\n",
    "    dataset = (\n",
    "        BayesianOptimizer(observer, search_space)\n",
    "        .optimize(num_steps, initial_data, {OBJECTIVE: model}, acquisition_rule)\n",
    "        .try_get_final_datasets()[OBJECTIVE]\n",
    "    )\n",
    "\n",
    "    # A small log hypervolume difference corresponds to a succesful optimization.\n",
    "    ref_point = get_reference_point(dataset.observations)\n",
    "\n",
    "    obs_hv = Pareto(dataset.observations).hypervolume_indicator(ref_point)\n",
    "    ideal_pf = tf.cast(VLMOP2().gen_pareto_optimal_points(100), dtype=tf.float64)\n",
    "    ideal_hv = Pareto(ideal_pf).hypervolume_indicator(ref_point)\n",
    "\n",
    "    assert tf.math.log(ideal_hv - obs_hv) < convergence_threshold"
   ]
  },
  {
   "cell_type": "code",
   "execution_count": 28,
   "id": "2796056f",
   "metadata": {},
   "outputs": [],
   "source": [
    "from trieste.acquisition import (\n",
    "    BatchMonteCarloExpectedHypervolumeImprovement,\n",
    "    ExpectedHypervolumeImprovement,\n",
    ")\n",
    "from trieste.acquisition.multi_objective.pareto import Pareto, get_reference_point\n",
    "from trieste.acquisition.optimizer import generate_continuous_optimizer\n",
    "from trieste.acquisition.rule import (\n",
    "    AcquisitionRule,\n",
    "    AsynchronousOptimization,\n",
    "    EfficientGlobalOptimization,\n",
    ")\n",
    "from trieste.bayesian_optimizer import BayesianOptimizer\n",
    "from trieste.data import Dataset\n",
    "from trieste.models.gpflow import GaussianProcessRegression\n",
    "from trieste.models.interfaces import ModelStack\n",
    "from trieste.objectives.multi_objectives import VLMOP2\n",
    "from trieste.objectives.utils import mk_observer\n",
    "from trieste.observer import OBJECTIVE\n",
    "from trieste.space import Box\n",
    "from trieste.types import TensorType"
   ]
  },
  {
   "cell_type": "code",
   "execution_count": 29,
   "id": "10fadbea",
   "metadata": {},
   "outputs": [],
   "source": [
    "input_params = [\n",
    "    (\n",
    "            15,\n",
    "            EfficientGlobalOptimization(\n",
    "                BatchMonteCarloExpectedHypervolumeImprovement(sample_size=500).using(OBJECTIVE),\n",
    "                num_query_points=2,\n",
    "                optimizer=generate_continuous_optimizer(num_initial_samples=500),\n",
    "            ),\n",
    "            -3.44,\n",
    "    ),\n",
    "    (\n",
    "            10,\n",
    "            EfficientGlobalOptimization(\n",
    "                BatchMonteCarloExpectedHypervolumeImprovement(sample_size=250).using(OBJECTIVE),\n",
    "                num_query_points=4,\n",
    "                optimizer=generate_continuous_optimizer(num_initial_samples=500),\n",
    "            ),\n",
    "            -3.2095,\n",
    "    ),\n",
    "    \n",
    "    \n",
    "    # same as above, but with the new LP acq function\n",
    "    (\n",
    "            15,\n",
    "            EfficientGlobalOptimization(\n",
    "                MOLocalPenalizationAcquisitionFunction().using(OBJECTIVE),\n",
    "                num_query_points=2,\n",
    "                optimizer=generate_continuous_optimizer(num_initial_samples=500),\n",
    "            ),\n",
    "            -3.44,\n",
    "    ),\n",
    "    (\n",
    "            10,\n",
    "            EfficientGlobalOptimization(\n",
    "                MOLocalPenalizationAcquisitionFunction().using(OBJECTIVE),\n",
    "                num_query_points=4,\n",
    "                optimizer=generate_continuous_optimizer(num_initial_samples=500),\n",
    "            ),\n",
    "            -3.2095,\n",
    "    ),\n",
    "]"
   ]
  },
  {
   "cell_type": "code",
   "execution_count": 30,
   "id": "b879ec7b",
   "metadata": {},
   "outputs": [
    {
     "name": "stdout",
     "output_type": "stream",
     "text": [
      "-------------------------------\n",
      "input: (15, EfficientGlobalOptimization(\n",
      "        BatchMonteCarloExpectedHypervolumeImprovement(500, jitter=1e-06) using tag 'OBJECTIVE',\n",
      "        <function batchify.<locals>.optimizer at 0x7f0afc5414d0>,\n",
      "        2), -3.44)\n"
     ]
    },
    {
     "name": "stderr",
     "output_type": "stream",
     "text": [
      "2021-12-02 11:49:52.450641: W tensorflow/core/grappler/optimizers/loop_optimizer.cc:907] Skipping loop optimization for Merge node with control input: assert_greater_equal/Assert/AssertGuard/branch_executed/_9\n",
      "2021-12-02 11:49:54.454564: W tensorflow/core/grappler/optimizers/loop_optimizer.cc:907] Skipping loop optimization for Merge node with control input: assert_greater_equal/Assert/AssertGuard/branch_executed/_9\n",
      "2021-12-02 11:49:56.435968: W tensorflow/core/grappler/optimizers/loop_optimizer.cc:907] Skipping loop optimization for Merge node with control input: assert_greater_equal/Assert/AssertGuard/branch_executed/_9\n",
      "2021-12-02 11:49:58.952455: W tensorflow/core/grappler/optimizers/loop_optimizer.cc:907] Skipping loop optimization for Merge node with control input: assert_greater_equal/Assert/AssertGuard/branch_executed/_9\n",
      "2021-12-02 11:50:01.007036: W tensorflow/core/grappler/optimizers/loop_optimizer.cc:907] Skipping loop optimization for Merge node with control input: assert_greater_equal/Assert/AssertGuard/branch_executed/_9\n",
      "2021-12-02 11:50:03.005149: W tensorflow/core/grappler/optimizers/loop_optimizer.cc:907] Skipping loop optimization for Merge node with control input: assert_greater_equal/Assert/AssertGuard/branch_executed/_9\n",
      "2021-12-02 11:50:05.230294: W tensorflow/core/grappler/optimizers/loop_optimizer.cc:907] Skipping loop optimization for Merge node with control input: assert_greater_equal/Assert/AssertGuard/branch_executed/_9\n",
      "2021-12-02 11:50:07.644665: W tensorflow/core/grappler/optimizers/loop_optimizer.cc:907] Skipping loop optimization for Merge node with control input: assert_greater_equal/Assert/AssertGuard/branch_executed/_9\n",
      "2021-12-02 11:50:10.445750: W tensorflow/core/grappler/optimizers/loop_optimizer.cc:907] Skipping loop optimization for Merge node with control input: assert_greater_equal/Assert/AssertGuard/branch_executed/_9\n",
      "2021-12-02 11:50:12.630337: W tensorflow/core/grappler/optimizers/loop_optimizer.cc:907] Skipping loop optimization for Merge node with control input: assert_greater_equal/Assert/AssertGuard/branch_executed/_9\n",
      "2021-12-02 11:50:14.795903: W tensorflow/core/grappler/optimizers/loop_optimizer.cc:907] Skipping loop optimization for Merge node with control input: assert_greater_equal/Assert/AssertGuard/branch_executed/_9\n",
      "2021-12-02 11:50:16.883843: W tensorflow/core/grappler/optimizers/loop_optimizer.cc:907] Skipping loop optimization for Merge node with control input: assert_greater_equal/Assert/AssertGuard/branch_executed/_9\n",
      "2021-12-02 11:50:18.976969: W tensorflow/core/grappler/optimizers/loop_optimizer.cc:907] Skipping loop optimization for Merge node with control input: assert_greater_equal/Assert/AssertGuard/branch_executed/_9\n",
      "2021-12-02 11:50:21.065488: W tensorflow/core/grappler/optimizers/loop_optimizer.cc:907] Skipping loop optimization for Merge node with control input: assert_greater_equal/Assert/AssertGuard/branch_executed/_9\n",
      "2021-12-02 11:50:23.851397: W tensorflow/core/grappler/optimizers/loop_optimizer.cc:907] Skipping loop optimization for Merge node with control input: assert_greater_equal/Assert/AssertGuard/branch_executed/_9\n"
     ]
    },
    {
     "name": "stdout",
     "output_type": "stream",
     "text": [
      "Optimization completed without errors\n",
      "-------------------------------\n",
      "input: (10, EfficientGlobalOptimization(\n",
      "        BatchMonteCarloExpectedHypervolumeImprovement(250, jitter=1e-06) using tag 'OBJECTIVE',\n",
      "        <function batchify.<locals>.optimizer at 0x7f0ae764ddd0>,\n",
      "        4), -3.2095)\n"
     ]
    },
    {
     "name": "stderr",
     "output_type": "stream",
     "text": [
      "2021-12-02 11:50:26.714458: W tensorflow/core/grappler/optimizers/loop_optimizer.cc:907] Skipping loop optimization for Merge node with control input: assert_greater_equal/Assert/AssertGuard/branch_executed/_9\n",
      "2021-12-02 11:50:28.897488: W tensorflow/core/grappler/optimizers/loop_optimizer.cc:907] Skipping loop optimization for Merge node with control input: assert_greater_equal/Assert/AssertGuard/branch_executed/_9\n",
      "2021-12-02 11:50:31.161270: W tensorflow/core/grappler/optimizers/loop_optimizer.cc:907] Skipping loop optimization for Merge node with control input: assert_greater_equal/Assert/AssertGuard/branch_executed/_9\n",
      "2021-12-02 11:50:33.396620: W tensorflow/core/grappler/optimizers/loop_optimizer.cc:907] Skipping loop optimization for Merge node with control input: assert_greater_equal/Assert/AssertGuard/branch_executed/_9\n",
      "2021-12-02 11:50:36.419412: W tensorflow/core/grappler/optimizers/loop_optimizer.cc:907] Skipping loop optimization for Merge node with control input: assert_greater_equal/Assert/AssertGuard/branch_executed/_9\n",
      "2021-12-02 11:50:38.671608: W tensorflow/core/grappler/optimizers/loop_optimizer.cc:907] Skipping loop optimization for Merge node with control input: assert_greater_equal/Assert/AssertGuard/branch_executed/_9\n",
      "2021-12-02 11:50:41.156657: W tensorflow/core/grappler/optimizers/loop_optimizer.cc:907] Skipping loop optimization for Merge node with control input: assert_greater_equal/Assert/AssertGuard/branch_executed/_9\n",
      "2021-12-02 11:50:43.535388: W tensorflow/core/grappler/optimizers/loop_optimizer.cc:907] Skipping loop optimization for Merge node with control input: assert_greater_equal/Assert/AssertGuard/branch_executed/_9\n",
      "2021-12-02 11:50:46.052380: W tensorflow/core/grappler/optimizers/loop_optimizer.cc:907] Skipping loop optimization for Merge node with control input: assert_greater_equal/Assert/AssertGuard/branch_executed/_9\n",
      "2021-12-02 11:50:49.187277: W tensorflow/core/grappler/optimizers/loop_optimizer.cc:907] Skipping loop optimization for Merge node with control input: assert_greater_equal/Assert/AssertGuard/branch_executed/_9\n"
     ]
    },
    {
     "name": "stdout",
     "output_type": "stream",
     "text": [
      "Optimization completed without errors\n",
      "-------------------------------\n",
      "input: (15, EfficientGlobalOptimization(\n",
      "        <trieste.acquisition.function.local_penalization.MOLocalPenalizationAcquisitionFunction object at 0x7f0afc3dfa10> using tag 'OBJECTIVE',\n",
      "        <function generate_continuous_optimizer.<locals>.optimize_continuous at 0x7f0ae764d9e0>,\n",
      "        2), -3.44)\n",
      "Optimization completed without errors\n",
      "-------------------------------\n",
      "input: (10, EfficientGlobalOptimization(\n",
      "        <trieste.acquisition.function.local_penalization.MOLocalPenalizationAcquisitionFunction object at 0x7f0afc3dfc50> using tag 'OBJECTIVE',\n",
      "        <function generate_continuous_optimizer.<locals>.optimize_continuous at 0x7f0b302a9830>,\n",
      "        4), -3.2095)\n",
      "Optimization completed without errors\n"
     ]
    }
   ],
   "source": [
    "for ip in input_params:\n",
    "    print(\"-------------------------------\")\n",
    "    print(\"input:\", ip)\n",
    "    test_multi_objective_optimizer_finds_pareto_front_of_the_VLMOP2_function(ip[0], ip[1], ip[2])"
   ]
  },
  {
   "cell_type": "code",
   "execution_count": null,
   "id": "a7f5470b",
   "metadata": {},
   "outputs": [],
   "source": []
  }
 ],
 "metadata": {
  "kernelspec": {
   "display_name": "Python 3 (ipykernel)",
   "language": "python",
   "name": "python3"
  },
  "language_info": {
   "codemirror_mode": {
    "name": "ipython",
    "version": 3
   },
   "file_extension": ".py",
   "mimetype": "text/x-python",
   "name": "python",
   "nbconvert_exporter": "python",
   "pygments_lexer": "ipython3",
   "version": "3.7.5"
  }
 },
 "nbformat": 4,
 "nbformat_minor": 5
}
